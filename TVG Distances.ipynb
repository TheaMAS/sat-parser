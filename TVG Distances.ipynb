{
 "cells": [
  {
   "cell_type": "markdown",
   "id": "0d10217a",
   "metadata": {},
   "source": [
    "# \"Barcode\" Distance on Intervals"
   ]
  },
  {
   "cell_type": "code",
   "execution_count": 1,
   "id": "6629aee2",
   "metadata": {},
   "outputs": [],
   "source": [
    "import Interval_Matrix_Algebra_Calculator_v0 as imac\n",
    "import portion as P\n",
    "import dionysus as d\n",
    "import numpy as np \n",
    "from itertools import permutations\n",
    "\n",
    "import matplotlib.pyplot as plt\n"
   ]
  },
  {
   "cell_type": "markdown",
   "id": "b75958ff",
   "metadata": {},
   "source": [
    "## Generate Simulations\n",
    "\n",
    "### Setup Base"
   ]
  },
  {
   "cell_type": "code",
   "execution_count": 2,
   "id": "49b81bc6",
   "metadata": {},
   "outputs": [],
   "source": [
    "from os_utilities import *\n",
    "from orb_builder import *\n",
    "\n",
    "orb_filenames = [] # used to keep track of what files to feed into soap\n",
    "\n",
    "folder_name = \"sim-2022-11-13\"\n",
    "prefix = \"\" # earth / moon / mars\n",
    "n = 5 # number of simulations to generate\n",
    "k = 40 # number of satellites to sample from starlink\n",
    "\n",
    "folder = \"./outputs/\" + folder_name\n",
    "make_folder(folder)\n",
    "\n",
    "starlink = build_satellites_csv(\"starlink\")\n",
    "moon_sats = get_moon_platforms()\n",
    "mars_sats = get_mars_platforms()\n",
    "ground = [\n",
    "    create_ground_object_dictionary(\"Ground-Albany\", 42.685012663456163, -73.82479012295363, 0),\n",
    "    create_ground_object_dictionary(\"Ground-Sydney\", -33.868888888888889, 151.20939697339508, 0)\n",
    "]\n",
    "norad = build_satellites_from_tle(\"./sources/tdrss.tle\")"
   ]
  },
  {
   "cell_type": "markdown",
   "id": "5bc6ad30",
   "metadata": {},
   "source": [
    "### Create Starlink System"
   ]
  },
  {
   "cell_type": "code",
   "execution_count": 3,
   "id": "00742829",
   "metadata": {},
   "outputs": [
    {
     "data": {
      "text/plain": [
       "0"
      ]
     },
     "execution_count": 3,
     "metadata": {},
     "output_type": "execute_result"
    }
   ],
   "source": [
    "name = \"starlink_a\"\n",
    "satellites = sample_sats(starlink, k)\n",
    "save_to_outputs_file(\n",
    "        generate_orb(satellites, name),\n",
    "        folder_name + \"/\" + name, \"orb\")\n",
    "name = \"starlink_b\"\n",
    "satellites = sample_sats(starlink, k)\n",
    "save_to_outputs_file(\n",
    "        generate_orb(satellites, name),\n",
    "        folder_name + \"/\" + name, \"orb\")"
   ]
  },
  {
   "cell_type": "markdown",
   "id": "6e13f1d3",
   "metadata": {},
   "source": [
    "### Run Soap"
   ]
  },
  {
   "cell_type": "code",
   "execution_count": 4,
   "id": "bc105eb7",
   "metadata": {},
   "outputs": [],
   "source": [
    "orb_files = get_ext_files(folder, \"orb\")\n",
    "orb_filenames = []\n",
    "for orb_file in orb_files:\n",
    "    orb_filenames.append(orb_file.split(\"/\")[-1])\n",
    "# print(orb_filenames)"
   ]
  },
  {
   "cell_type": "code",
   "execution_count": 5,
   "id": "46065934",
   "metadata": {},
   "outputs": [
    {
     "name": "stderr",
     "output_type": "stream",
     "text": [
      "0084:fixme:hid:handle_IRP_MN_QUERY_ID Unhandled type 00000005\n",
      "0084:fixme:hid:handle_IRP_MN_QUERY_ID Unhandled type 00000005\n",
      "0084:fixme:hid:handle_IRP_MN_QUERY_ID Unhandled type 00000005\n",
      "0084:fixme:hid:handle_IRP_MN_QUERY_ID Unhandled type 00000005\n",
      "0114:fixme:tasklist:wmain stub: L\"tasklist\" L\"/nh\" L\"/fo\" L\"csv\" L\"/fi\" L\"Imagename eq soap64.exe\" L\"/fi\" L\"Status eq Running\"\n",
      "00e4:fixme:wintab32:x11drv_tablet_info Return proper size\n",
      "00e4:fixme:win:NtUserFlashWindowEx 0x11f190 - semi-stub\n",
      "006c:fixme:imm:ImeSetActiveContext (0000000000010026, 0): stub\n",
      "006c:fixme:imm:ImmReleaseContext (0000000000010020, 0000000000010026): stub\n",
      "00e4:fixme:imm:ImeSetActiveContext (0000000000020046, 1): stub\n",
      "00e4:fixme:imm:ImmReleaseContext (000000000001006E, 0000000000020046): stub\n",
      "00e4:fixme:win:RegisterTouchWindow (000000000001006E 00000000): stub\n",
      "00e4:fixme:wgl:X11DRV_wglGetPixelFormatAttribivARB unsupported 2008 WGL Attribute\n",
      "00e4:fixme:msg:pack_message msg 80 (WM_SETICON) not supported yet\n",
      "00e4:fixme:msg:pack_message msg 80 (WM_SETICON) not supported yet\n",
      "00e4:fixme:msvcrt:__clean_type_info_names_internal (00000000640F8470) stub\n",
      "00e4:fixme:msvcrt:__clean_type_info_names_internal (00000000630D2810) stub\n",
      "00e4:fixme:msvcrt:__clean_type_info_names_internal (000000006590D5E0) stub\n",
      "00e4:fixme:msvcrt:__clean_type_info_names_internal (0000000061063BA0) stub\n",
      "00e4:fixme:msvcrt:__clean_type_info_names_internal (00000000672BF920) stub\n",
      "libpng warning: iCCP: known incorrect sRGB profile\n",
      "libpng warning: Interlace handling should be turned on when using png_read_image\n",
      "013c:fixme:tasklist:wmain stub: L\"tasklist\" L\"/nh\" L\"/fo\" L\"csv\" L\"/fi\" L\"Imagename eq soap64.exe\" L\"/fi\" L\"Status eq Running\"\n",
      "012c:fixme:wintab32:x11drv_tablet_info Return proper size\n",
      "012c:fixme:win:NtUserFlashWindowEx 0x11f190 - semi-stub\n",
      "012c:fixme:imm:ImeSetActiveContext (0000000000020060, 1): stub\n",
      "012c:fixme:imm:ImmReleaseContext (0000000000020066, 0000000000020060): stub\n",
      "012c:fixme:win:RegisterTouchWindow (0000000000020066 00000000): stub\n",
      "012c:fixme:wgl:X11DRV_wglGetPixelFormatAttribivARB unsupported 2008 WGL Attribute\n",
      "012c:fixme:msg:pack_message msg 80 (WM_SETICON) not supported yet\n",
      "012c:fixme:msg:pack_message msg 80 (WM_SETICON) not supported yet\n",
      "012c:fixme:msvcrt:__clean_type_info_names_internal (00000000640F8470) stub\n",
      "012c:fixme:msvcrt:__clean_type_info_names_internal (00000000630D2810) stub\n",
      "012c:fixme:msvcrt:__clean_type_info_names_internal (000000006590D5E0) stub\n",
      "012c:fixme:msvcrt:__clean_type_info_names_internal (0000000061063BA0) stub\n",
      "012c:fixme:msvcrt:__clean_type_info_names_internal (00000000672BF920) stub\n",
      "libpng warning: iCCP: known incorrect sRGB profile\n",
      "libpng warning: Interlace handling should be turned on when using png_read_image\n"
     ]
    }
   ],
   "source": [
    "import subprocess\n",
    "\n",
    "command = \"wine\"\n",
    "soap_path = \"/home/zeno/.wine/drive_c/SOAP/bin64/soap.exe\"\n",
    "\n",
    "for filename in orb_filenames:\n",
    "#     print(filename)\n",
    "\n",
    "    orb_path = \"\" + folder + \"/\" + filename + \"\"\n",
    "    process = subprocess.Popen([command, soap_path, orb_path])\n",
    "    # process = subprocess.Popen([command, soap_path, orb_path], stdout=subprocess.DEVNULL, stderr=subprocess.STDOUT)\n",
    "    process.wait()"
   ]
  },
  {
   "cell_type": "code",
   "execution_count": 6,
   "id": "c4ced5f7",
   "metadata": {},
   "outputs": [
    {
     "name": "stdout",
     "output_type": "stream",
     "text": [
      "len(A) = 40, len(B) = 40\n"
     ]
    }
   ],
   "source": [
    "filename = folder + \"/starlink_a Contact Analysis.csv\"\n",
    "A = imac.soapConverter(filename)\n",
    "filename = folder + \"/starlink_b Contact Analysis.csv\"\n",
    "B = imac.soapConverter(filename)\n",
    "\n",
    "print(\"len(A) = {}, len(B) = {}\".format(len(A), len(B)))\n",
    "m = len(A)\n",
    "\n",
    "start_time = 0\n",
    "end_time = 86400\n",
    "\n",
    "# TODO : change B to be R in each entry.\n",
    "\n",
    "def unit_matrix(m): # , start_time, end_time\n",
    "    matrix = []\n",
    "    for i in range(m):\n",
    "        row = []\n",
    "        for j in range(m):\n",
    "            row.append(P.closed(-P.inf, P.inf))\n",
    "        matrix.append(row)\n",
    "    return matrix\n",
    "        \n",
    "B = unit_matrix(m)\n",
    "# print(U)"
   ]
  },
  {
   "cell_type": "code",
   "execution_count": 7,
   "id": "8fad9222",
   "metadata": {},
   "outputs": [],
   "source": [
    "from distances_tvg import *"
   ]
  },
  {
   "cell_type": "code",
   "execution_count": 8,
   "id": "897e6e02",
   "metadata": {},
   "outputs": [],
   "source": [
    "# def tvg_to_diagram_matrix(A, start_time, end_time):\n",
    "#     m = len(A)\n",
    "#     diagram = []\n",
    "#     for i in range(m):\n",
    "#         diagram.append([])\n",
    "#         for j in range(m):\n",
    "#             # print(\"A({}, {}) =\".format(i, j))\n",
    "#             intervals = list(A[i][j])\n",
    "#             diagram_ij = d.Diagram()\n",
    "#             for interval in intervals:\n",
    "#                 lower = interval.lower\n",
    "#                 upper = interval.upper\n",
    "\n",
    "#                 # check if emptyset?\n",
    "#                 if lower == P.inf and upper == -P.inf:\n",
    "#                     continue\n",
    "\n",
    "#                 # check if interval is R\n",
    "#                 if lower == -P.inf:\n",
    "#                     lower = start_time\n",
    "#                 if upper == P.inf:\n",
    "#                     upper = end_time\n",
    "\n",
    "#                 # print(\"\\t[{}, {}]\".format(lower, upper))\n",
    "#                 diagram_ij.append(d.DiagramPoint(lower, upper))\n",
    "#             diagram[i].append(diagram_ij)\n",
    "#     return diagram\n",
    "\n",
    "# def tvg_to_complement_diagram_matrix(A, start_time, end_time):\n",
    "#     m = len(A)\n",
    "#     diagram = []\n",
    "#     for i in range(m):\n",
    "#         diagram.append([])\n",
    "#         for j in range(m):\n",
    "#             intervals = list(A[i][j])\n",
    "#             diagram_ij = d.Diagram()\n",
    "#             # print(intervals)\n",
    "#             intervals_c = []\n",
    "            \n",
    "#             lower = start_time           \n",
    "#             for interval in intervals:\n",
    "                \n",
    "#                 # check if emptyset?\n",
    "#                 if interval.lower == P.inf and interval.upper == -P.inf:\n",
    "#                     continue\n",
    "                \n",
    "#                 upper = interval.lower\n",
    "                \n",
    "#                 # check if interval is R\n",
    "#                 if interval.lower == -P.inf:\n",
    "#                     upper = start_time\n",
    "                \n",
    "#                 # print(interval)\n",
    "#                 intervals_c.append([lower, upper])\n",
    "#                 # print(\"({}, {})\".format(lower, upper))\n",
    "        \n",
    "#                 # manually remove singletons to avoid dionysus2 bug\n",
    "#                 if lower != upper:\n",
    "#                     diagram_ij.append(d.DiagramPoint(lower, upper))\n",
    "                \n",
    "#                 lower = interval.upper\n",
    "#                 if interval.upper == P.inf:\n",
    "#                     lower = end_time\n",
    "                    \n",
    "#             intervals_c.append([lower, end_time])\n",
    "#             # print(\"complement : {}\".format(intervals_c))\n",
    "            \n",
    "#             # manually remove singletons to avoid dionysus2 bug\n",
    "#             if lower != end_time:\n",
    "#                 diagram_ij.append(d.DiagramPoint(lower, end_time))\n",
    "#             diagram[i].append(diagram_ij)\n",
    "#     return diagram\n",
    "\n",
    "diagram_a = tvg_to_diagram_matrix(A, start_time, end_time)\n",
    "diagram_b = tvg_to_diagram_matrix(B, start_time, end_time)\n",
    "\n",
    "# diagram_a_comp = tvg_to_complement_diagram_matrix(A, start_time, end_time)\n",
    "# diagram_b_comp = tvg_to_complement_diagram_matrix(B, start_time, end_time)\n",
    "\n",
    "# print(diagram_a_comp)\n",
    "# print(diagram_b_comp)\n",
    "\n",
    "diagram_a = tvg_to_complement_diagram_matrix(A, start_time, end_time)\n",
    "diagram_b = tvg_to_complement_diagram_matrix(B, start_time, end_time)\n",
    "\n",
    "# print(len(diagram_a[0]))"
   ]
  },
  {
   "cell_type": "code",
   "execution_count": 9,
   "id": "12c37744",
   "metadata": {},
   "outputs": [],
   "source": [
    "# def tvg_interval_wasserstein_distance_matrix(diagram_a, diagram_b, m, q = 2):\n",
    "#     wdist = []\n",
    "#     for i in range(m):\n",
    "#         wdist.append([])\n",
    "#         for j in range(m):\n",
    "#             diagram_aij = diagram_a[i][j]\n",
    "#             diagram_bij = diagram_b[i][j]\n",
    "#             # print(diagram_aij)\n",
    "#             # print(diagram_bij)\n",
    "            \n",
    "#             wdist[i].append(d.wasserstein_distance(diagram_aij, diagram_bij, q=q))\n",
    "#             # print(\"2-Wasserstein distance between ({}, {})-intervals: {}\".format(i, j, wdist[i][j]))\n",
    "\n",
    "#     return wdist\n",
    "            \n",
    "# def tvg_interval_bottleneck_distance_matrix(diagram_a, diagram_b, m):\n",
    "#     bdist = []\n",
    "#     for i in range(m):\n",
    "#         bdist.append([])\n",
    "#         for j in range(m):\n",
    "#             diagram_aij = diagram_a[i][j]\n",
    "#             diagram_bij = diagram_b[i][j]\n",
    "#             # print(diagram_aij)\n",
    "#             # print(diagram_bij)\n",
    "            \n",
    "#             bdist[i].append(d.bottleneck_distance(diagram_aij, diagram_bij))\n",
    "#             # print(\"Bottleneck distance between ({}, {})-intervals: {}\".format(i, j, bdist[i][j]))\n",
    "            \n",
    "#     return bdist"
   ]
  },
  {
   "cell_type": "markdown",
   "id": "6999a00f",
   "metadata": {},
   "source": [
    "### Define $\\ell^q$ norms for $p \\in [1, \\infty]$"
   ]
  },
  {
   "cell_type": "code",
   "execution_count": 10,
   "id": "17845d59",
   "metadata": {},
   "outputs": [],
   "source": [
    "# def sup_norm(distance_matrix):\n",
    "#     \"\"\"\n",
    "#     Given a square matrix `distance_matrix` as a list of lists, return the $\\ell^\\infty$-norm.\n",
    "#     \"\"\"\n",
    "#     m = len(distance_matrix)\n",
    "    \n",
    "#     supremum = float(\"-inf\")\n",
    "#     for i in range(m):\n",
    "#         for j in range(m):\n",
    "#             entry = distance_matrix[i][j]\n",
    "#             supremum = max(supremum, entry)\n",
    "#     return supremum\n",
    "\n",
    "# def q_norm(distance_matrix, q):\n",
    "#     \"\"\"\n",
    "#     Given a square matrix `distance matrix` as a list of lists, return the $\\ell^q$-norm,\n",
    "#         with `q` a float in [1, float(\"inf\"))\n",
    "#     \"\"\"\n",
    "    \n",
    "#     m = len(distance_matrix)\n",
    "    \n",
    "#     summation = 0\n",
    "#     for i in range(m):\n",
    "#         for j in range(m):\n",
    "#             entry = distance_matrix[i][j]\n",
    "#             summation += pow(entry, q)\n",
    "#     return pow(summation, 1/q)"
   ]
  },
  {
   "cell_type": "markdown",
   "id": "f7396e48",
   "metadata": {},
   "source": [
    "### Calculate Distances Between A and B"
   ]
  },
  {
   "cell_type": "code",
   "execution_count": 11,
   "id": "ed9b0dd3",
   "metadata": {},
   "outputs": [
    {
     "name": "stdout",
     "output_type": "stream",
     "text": [
      "bdist_sup = 43260.515625\n",
      "wdist_sup = 43200.0\n",
      "wdist_q = 1405060.4563411667, for q = 2\n"
     ]
    }
   ],
   "source": [
    "wdist = tvg_interval_wasserstein_distance_matrix(diagram_a, diagram_b, m, 2)\n",
    "bdist = tvg_interval_bottleneck_distance_matrix(diagram_a, diagram_b, m)\n",
    "       \n",
    "print(\"bdist_sup = {}\".format(sup_norm(bdist)))\n",
    "print(\"wdist_sup = {}\".format(sup_norm(wdist)))\n",
    "\n",
    "q = 2\n",
    "print(\"wdist_q = {}, for q = {}\".format(q_norm(wdist, q), q))\n",
    "# print(\"bdist_q = {}, for q = {}\".format(q_norm(bdist, q), q)) # maybe this one doesn't make sense?\n"
   ]
  },
  {
   "cell_type": "markdown",
   "id": "d36feea0",
   "metadata": {},
   "source": [
    "## Distance on $k$-Walk TVG's"
   ]
  },
  {
   "cell_type": "code",
   "execution_count": 12,
   "id": "840e2bb8",
   "metadata": {},
   "outputs": [
    {
     "name": "stdout",
     "output_type": "stream",
     "text": [
      "Calculating 0-walks\n",
      "d_B(A^0, B^0) = 43260.515625\n",
      "d_W^2,infty(A^0, B^0) = 43200.0\n",
      "d_W^2,q(A^0, B^0) = 1405060.4563411667, q = 2\n",
      "Calculating 1-walks\n",
      "d_B(A^1, B^1) = 43260.515625\n",
      "d_W^2,infty(A^1, B^1) = 43200.0\n",
      "d_W^2,q(A^1, B^1) = 1405060.4563411667, q = 2\n",
      "Calculating 2-walks\n",
      "d_B(A^2, B^2) = 43200.0\n",
      "d_W^2,infty(A^2, B^2) = 43200.0\n",
      "d_W^2,q(A^2, B^2) = 1141920.830511097, q = 2\n",
      "Calculating 3-walks\n",
      "d_B(A^3, B^3) = 43200.0\n",
      "d_W^2,infty(A^3, B^3) = 43200.0\n",
      "d_W^2,q(A^3, B^3) = 816879.8904976216, q = 2\n",
      "Calculating 4-walks\n",
      "d_B(A^4, B^4) = 43200.0\n",
      "d_W^2,infty(A^4, B^4) = 43200.0\n",
      "d_W^2,q(A^4, B^4) = 497717.5906891005, q = 2\n",
      "Calculating 5-walks\n",
      "d_B(A^5, B^5) = 17880.38671875\n",
      "d_W^2,infty(A^5, B^5) = 20811.419921875\n",
      "d_W^2,q(A^5, B^5) = 319975.6825313031, q = 2\n",
      "Calculating 6-walks\n",
      "d_B(A^6, B^6) = 7094.9189453125\n",
      "d_W^2,infty(A^6, B^6) = 14586.787109375\n",
      "d_W^2,q(A^6, B^6) = 272778.7154579267, q = 2\n",
      "Calculating 7-walks\n",
      "d_B(A^7, B^7) = 7084.05419921875\n",
      "d_W^2,infty(A^7, B^7) = 13831.5146484375\n",
      "d_W^2,q(A^7, B^7) = 248765.3681911669, q = 2\n",
      "Calculating 8-walks\n",
      "d_B(A^8, B^8) = 7084.05419921875\n",
      "d_W^2,infty(A^8, B^8) = 13736.255859375\n",
      "d_W^2,q(A^8, B^8) = 234784.98765060125, q = 2\n",
      "Calculating 9-walks\n",
      "d_B(A^9, B^9) = 6811.72119140625\n",
      "d_W^2,infty(A^9, B^9) = 12904.26171875\n",
      "d_W^2,q(A^9, B^9) = 227737.36050769646, q = 2\n"
     ]
    }
   ],
   "source": [
    "n = 10\n",
    "q = 2\n",
    "\n",
    "x = list(range(n))\n",
    "y_wdist = [0 for i in x]\n",
    "y_bdist = [0 for i in x]\n",
    "\n",
    "for k in range(n):\n",
    "    print(\"Calculating {}-walks\".format(k))\n",
    "    \n",
    "    A_k = imac.matrix_k_walk(A, k)\n",
    "    B_k = B # imac.matrix_k_walk(B, k)\n",
    "    \n",
    "    # diagram_a_k = tvg_to_diagram_matrix(A_k, start_time, end_time)\n",
    "    # diagram_b_k = tvg_to_diagram_matrix(B_k, start_time, end_time)\n",
    "    \n",
    "    diagram_a_k = tvg_to_complement_diagram_matrix(A_k, start_time, end_time)\n",
    "    diagram_b_k = tvg_to_complement_diagram_matrix(B_k, start_time, end_time)\n",
    "    \n",
    "    wdist = tvg_interval_wasserstein_distance_matrix(diagram_a_k, diagram_b_k, m, 2)\n",
    "    y_wdist[k] = q_norm(wdist, q)\n",
    "\n",
    "    bdist = tvg_interval_bottleneck_distance_matrix(diagram_a_k, diagram_b_k, m)\n",
    "    y_bdist[k] = sup_norm(bdist)\n",
    "\n",
    "    print(\"d_B(A^{0}, B^{0}) = {1}\".format(k, sup_norm(bdist)))\n",
    "    print(\"d_W^2,infty(A^{0}, B^{0}) = {1}\".format(k, sup_norm(wdist)))\n",
    "    print(\"d_W^2,q(A^{0}, B^{0}) = {1}, q = {2}\".format(k, q_norm(wdist, q), q))\n",
    "\n",
    "# fig, ax = plt.subplots(1, 2, figsize=(8, 6))\n",
    "# ax[0].set_xlabel('k')\n",
    "# ax[0].set_ylabel('seconds')\n",
    "# ax[0].set_title('{}-Wasserstein Distance from $k$-Walk Complement Matrix to Unit'.format(q), fontsize=15)\n",
    "# ax[0].plot(x, y_wdist, 'bo--', linewidth=2)\n",
    "\n",
    "# ax[1].set_xlabel('k')\n",
    "# ax[1].set_ylabel('seconds')\n",
    "# ax[1].set_title('Bottleneck Distance from $k$-Walk Complement Matrix to Unit', fontsize=15)\n",
    "# ax[1].plot(x, y_bdist, 'bo--', linewidth=2)\n",
    "\n",
    "# plt.show()"
   ]
  },
  {
   "cell_type": "code",
   "execution_count": 13,
   "id": "5f34c114",
   "metadata": {
    "scrolled": false
   },
   "outputs": [
    {
     "data": {
      "image/png": "[encoded data removed]",
      "text/plain": [
       "<Figure size 800x600 with 1 Axes>"
      ]
     },
     "metadata": {},
     "output_type": "display_data"
    },
    {
     "data": {
      "image/png": "[encoded data removed]",
      "text/plain": [
       "<Figure size 800x600 with 1 Axes>"
      ]
     },
     "metadata": {},
     "output_type": "display_data"
    }
   ],
   "source": [
    "fig, ax = plt.subplots(1, figsize=(8, 6))\n",
    "ax.set_xlabel('k')\n",
    "ax.set_ylabel('seconds')\n",
    "fig.suptitle('{}-Wasserstein Distance from $k$-Walk Matrix to Complete Matrix'.format(q), fontsize=15)\n",
    "ax.plot(x, y_wdist, 'bo--', linewidth=2)\n",
    "plt.show()\n",
    "\n",
    "fig, ax = plt.subplots(1, figsize=(8, 6))\n",
    "ax.set_xlabel('k')\n",
    "ax.set_ylabel('seconds')\n",
    "fig.suptitle('Bottleneck Distance from $k$-Walk Matrix to Complete Matrix', fontsize=15)\n",
    "ax.plot(x, y_bdist, 'bo--', linewidth=2)\n",
    "plt.show()"
   ]
  },
  {
   "cell_type": "markdown",
   "id": "4e2af34f",
   "metadata": {},
   "source": [
    "## Symmetric Distance"
   ]
  },
  {
   "cell_type": "code",
   "execution_count": 14,
   "id": "110819bf",
   "metadata": {},
   "outputs": [],
   "source": [
    "# def tvg_interval_wasserstein_distance_sym_matrix(diagram_a, diagram_b, permutation, m, q = 2):\n",
    "#     wdist = []\n",
    "#     for i in range(m):\n",
    "#         wdist.append([])\n",
    "#         for j in range(m):\n",
    "#             diagram_aij = diagram_a[i][j]\n",
    "#             diagram_bij = diagram_b[permutation[i]][permutation[j]]\n",
    "#             # print(diagram_aij)\n",
    "#             # print(diagram_bij)\n",
    "\n",
    "#             wdist[i].append(d.wasserstein_distance(diagram_aij, diagram_bij, q=q))\n",
    "#             # print(\"Bottleneck distance between ({}, {})-intervals: {}\".format(i, j, bdist[i][j]))\n",
    "            \n",
    "#     return wdist    \n",
    "\n",
    "# def tvg_interval_bottleneck_distance_sym_matrix(diagram_a, diagram_b, permutation, m):\n",
    "#     bdist = []\n",
    "#     for i in range(m):\n",
    "#         bdist.append([])\n",
    "#         for j in range(m):\n",
    "#             diagram_aij = diagram_a[i][j]\n",
    "#             diagram_bij = diagram_b[permutation[i]][permutation[j]]\n",
    "#             # print(diagram_aij)\n",
    "#             # print(diagram_bij)\n",
    "\n",
    "#             bdist[i].append(d.bottleneck_distance(diagram_aij, diagram_bij))\n",
    "#             # print(\"Bottleneck distance between ({}, {})-intervals: {}\".format(i, j, bdist[i][j]))\n",
    "            \n",
    "#     return bdist\n",
    "\n",
    "# wdist_sym_inf = float('inf')\n",
    "# bdist_sym_inf = float('inf')\n",
    "# permutations_list = list(permutations(range(m)))[1:]\n",
    "# permutations_list = []\n",
    "# for permutation in permutations_list:\n",
    "#     wdist_sym = tvg_interval_wasserstein_distance_sym_matrix(diagram_a, diagram_b, permutation, m, q=2)\n",
    "#     bdist_sym = tvg_interval_bottleneck_distance_sym_matrix(diagram_a, diagram_b, permutation, m)\n",
    "    \n",
    "#     wdist_sym_sup = 0.0\n",
    "#     bdist_sym_sup = 0.0\n",
    "#     for i in range(m):\n",
    "#         for j in range(m):\n",
    "#             wdist_sym_sup = max(wdist_sym_sup, wdist_sym[i][j])\n",
    "#             bdist_sym_sup = max(bdist_sym_sup, bdist_sym[i][j])\n",
    "#     wdist_sym_inf = min(wdist_sym_inf, wdist_sym_sup)\n",
    "#     bdist_sym_inf = min(bdist_sym_inf, bdist_sym_sup)\n",
    "\n",
    "# print(len(bdist_sym))\n",
    "# l = list(permutations(range(0, 4)))\n",
    "# # print(l)\n",
    "# print(len(l))\n",
    "# for permutation in l[1:]:\n",
    "#     print(permutation)"
   ]
  },
  {
   "cell_type": "code",
   "execution_count": 15,
   "id": "c8d29f39",
   "metadata": {},
   "outputs": [],
   "source": [
    "# wdist_sym_sup = 0.0\n",
    "# bdist_sym_sup = 0.0\n",
    "# for i in range(m):\n",
    "#     for j in range(m):\n",
    "#         wdist_sym_sup = max(wdist_sym_sup, wdist_sym[i][j])\n",
    "#         bdist_sym_sup = max(bdist_sym_sup, bdist_sym[i][j])\n",
    "\n",
    "# wdist_sym_inf = tvg_interval_wasserstein_distance_sym_matrix(diagram_a, diagram_b, m, q=2)\n",
    "# bdist_sym_inf = tvg_interval_bottleneck_distance_sym_matrix(diagram_a, diagram_b, m)\n",
    "\n",
    "# print(\"wdist_sym_inf = {}\".format(wdist_sym_inf))\n",
    "# print(\"bdist_sym_inf = {}\".format(bdist_sym_inf))"
   ]
  },
  {
   "cell_type": "code",
   "execution_count": null,
   "id": "dac784c0",
   "metadata": {},
   "outputs": [],
   "source": [
    "\n"
   ]
  },
  {
   "cell_type": "code",
   "execution_count": null,
   "id": "2c5c5387",
   "metadata": {},
   "outputs": [],
   "source": []
  }
 ],
 "metadata": {
  "kernelspec": {
   "display_name": "Python 3 (ipykernel)",
   "language": "python",
   "name": "python3"
  },
  "language_info": {
   "codemirror_mode": {
    "name": "ipython",
    "version": 3
   },
   "file_extension": ".py",
   "mimetype": "text/x-python",
   "name": "python",
   "nbconvert_exporter": "python",
   "pygments_lexer": "ipython3",
   "version": "3.10.9"
  }
 },
 "nbformat": 4,
 "nbformat_minor": 5
}
