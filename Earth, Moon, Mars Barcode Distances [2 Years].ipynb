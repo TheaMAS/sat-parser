{
 "cells": [
  {
   "cell_type": "markdown",
   "id": "c9ef0eb4",
   "metadata": {},
   "source": [
    "# Earth / Moon vs. Earth / Mars Barcodes"
   ]
  },
  {
   "cell_type": "markdown",
   "id": "5abfd2dd",
   "metadata": {},
   "source": [
    "### Setup Base"
   ]
  },
  {
   "cell_type": "code",
   "execution_count": 1,
   "id": "0d0815f8",
   "metadata": {},
   "outputs": [],
   "source": [
    "from os_utilities import *\n",
    "from orb_builder import *\n",
    "import time_utilities as tu\n",
    "\n",
    "orb_filenames = [] # used to keep track of what files to feed into soap\n",
    "\n",
    "\n",
    "prefix = \"starlink\" # earth / moon / mars\n",
    "n = 30 # number of simulations to generate\n",
    "k = 15 # number of satellites to sample from starlink\n",
    "\n",
    "folder_name = \"sim-2023-03-23-rnd\"\n",
    "folder_name = \"starlink-{}-sat-single\".format(k)\n",
    "\n",
    "folder = \"./outputs/\" + folder_name\n",
    "make_folder(folder)\n",
    "\n",
    "starlink = build_satellites_csv(\"starlink\")\n",
    "moon_sats = get_moon_platforms()\n",
    "mars_sats = get_mars_platforms()\n",
    "ground = [\n",
    "    create_ground_object_dictionary(\"Ground-Albany\", 42.685012663456163, -73.82479012295363, 0),\n",
    "    create_ground_object_dictionary(\"Ground-Sydney\", -33.868888888888889, 151.20939697339508, 0)\n",
    "]\n",
    "norad = build_satellites_from_tle(\"./sources/tdrss.tle\")\n",
    "\n",
    "import datetime\n",
    "import random\n",
    "\n",
    "year = 2022\n",
    "months = 24 # 8 years\n",
    "months = 1 # 8 years\n",
    "month_days = [31, 28, 31, 30, 31, 30, 31, 31, 30, 31, 30, 31]\n",
    "\n",
    "dates = []\n",
    "for j in range(months):\n",
    "    \n",
    "    if j > 0 and j % 12 == 0:\n",
    "        year += 1\n",
    "    month_index = j % 12\n",
    "    day = random.randint(1, month_days[month_index])\n",
    "    day = 1\n",
    "    # date = datetime.datetime(year, month_index + 1, day)\n",
    "    date = tu.get_random_date()\n",
    "    dates.append(date)\n",
    "# print(len(dates))\n",
    "# print(dates)\n",
    "# dates = []\n"
   ]
  },
  {
   "cell_type": "code",
   "execution_count": 2,
   "id": "a9f6ea40",
   "metadata": {},
   "outputs": [],
   "source": [
    "for i in range(n):\n",
    "    for d in dates:\n",
    "        name = prefix + \"_\" + str(k) + \"_sats_\" + d.strftime(\"%Y-%m\") + \"_\" + str(i) # \"%Y-%m-%d\"\n",
    "        name = prefix + \"_\" + str(k) + \"_sats_\" + str(i) # \"%Y-%m-%d\"\n",
    "\n",
    "        subset = sample_sats(starlink, k)\n",
    "\n",
    "        # track which satellites were chosen for subsequent simulations\n",
    "        subset_names = []\n",
    "        for satellite in subset:\n",
    "            subset_names.append(satellite[\"object_name\"])\n",
    "\n",
    "        satellites = subset # + moon_sats # + ground\n",
    "\n",
    "        orb_filenames.append(name + \".orb\")\n",
    "\n",
    "        save_to_outputs_file(\n",
    "            generate_orb(satellites, name, d),\n",
    "            folder_name + \"/\" + name, \"orb\")"
   ]
  },
  {
   "cell_type": "markdown",
   "id": "66636823",
   "metadata": {},
   "source": [
    "## Earth / Moon System"
   ]
  },
  {
   "cell_type": "code",
   "execution_count": 2,
   "id": "5ebfaa58",
   "metadata": {},
   "outputs": [],
   "source": [
    "for i in range(n):\n",
    "    for d in dates:\n",
    "\n",
    "        name = prefix + \"_moon_\" + d.strftime(\"%Y-%m\") + \"_\" + str(i)\n",
    "\n",
    "        subset = sample_sats(starlink, k)\n",
    "\n",
    "        # track which satellites were chosen for subsequent simulations\n",
    "        subset_names = []\n",
    "        for satellite in subset:\n",
    "            subset_names.append(satellite[\"object_name\"])\n",
    "\n",
    "        satellites = subset + moon_sats # + ground\n",
    "\n",
    "        orb_filenames.append(name + \".orb\")\n",
    "\n",
    "        save_to_outputs_file(\n",
    "            generate_orb(satellites, name, d),\n",
    "            folder_name + \"/\" + name, \"orb\")"
   ]
  },
  {
   "cell_type": "markdown",
   "id": "64a615bb",
   "metadata": {},
   "source": [
    "## Earth / Mars System"
   ]
  },
  {
   "cell_type": "code",
   "execution_count": 3,
   "id": "42350773",
   "metadata": {},
   "outputs": [],
   "source": [
    "for i in range(n):\n",
    "    for d in dates:\n",
    "\n",
    "        name = prefix + \"_mars_\" + d.strftime(\"%Y-%m\") + \"_\" + str(i)\n",
    "\n",
    "        subset = sample_sats(starlink, k + 1)\n",
    "\n",
    "        # track which satellites were chosen for subsequent simulations\n",
    "        subset_names = []\n",
    "        for satellite in subset:\n",
    "            subset_names.append(satellite[\"object_name\"])\n",
    "\n",
    "        satellites = subset + mars_sats # + ground\n",
    "\n",
    "        orb_filenames.append(name + \".orb\")\n",
    "\n",
    "        save_to_outputs_file(\n",
    "            generate_orb(satellites, name, d),\n",
    "            folder_name + \"/\" + name, \"orb\")"
   ]
  },
  {
   "cell_type": "markdown",
   "id": "5505f1b6",
   "metadata": {},
   "source": [
    "## Run Soap"
   ]
  },
  {
   "cell_type": "code",
   "execution_count": 3,
   "id": "28089321",
   "metadata": {},
   "outputs": [
    {
     "name": "stdout",
     "output_type": "stream",
     "text": [
      "osascript -e tell application \"System Events\" -e set visible of application process \"SOAP\" to false -e end tell\n",
      "osascript -e tell application \"System Events\" -e tell process \"SOAP\" -e set frontmost to true -e end tell -e end tell\n"
     ]
    }
   ],
   "source": [
    "# folder = \"outputs/starlink-6\"\n",
    "# orb_files = get_ext_files(folder, \"orb\")\n",
    "# orb_filenames = []\n",
    "# for orb_file in orb_files:\n",
    "#     orb_filenames.append(orb_file.split(\"/\")[-1])\n",
    "# print(orb_filenames)\n",
    "bash = starlink_bash = \"#!/bin/bash\" + \"\\n\"\n",
    "\n",
    "for filename in orb_filenames:\n",
    "    bash += f\"echo 'open -n -j -W {filename}'\\n\"\n",
    "    bash += f\"open -n -j -W {filename}\\n\"\n",
    "save_to_outputs_file(\n",
    "        bash,\n",
    "        folder_name + \"/run\",\n",
    "        \"sh\")\n",
    "\n",
    "# hack to get around soap bug\n",
    "#   soap doesn't close after reports are completed when in batch mode in macos\n",
    "#   but it should\n",
    "osascript_unfocus = [\n",
    "    'osascript',\n",
    "    '-e',\n",
    "    'tell application \"System Events\"',\n",
    "    '-e',\n",
    "    'set visible of application process \"SOAP\" to false',\n",
    "    '-e',\n",
    "    'end tell'\n",
    "]\n",
    "print(\" \".join(osascript_unfocus))\n",
    "\n",
    "osascript_focus = [\n",
    "    'osascript',\n",
    "    '-e',\n",
    "    'tell application \"System Events\"',\n",
    "    '-e',\n",
    "    'tell process \"SOAP\"',\n",
    "    '-e',\n",
    "    'set frontmost to true',\n",
    "    '-e',\n",
    "    'end tell',\n",
    "    '-e',\n",
    "    'end tell'\n",
    "]\n",
    "print(\" \".join(osascript_focus))"
   ]
  },
  {
   "cell_type": "code",
   "execution_count": 4,
   "id": "e394b688",
   "metadata": {},
   "outputs": [
    {
     "name": "stdout",
     "output_type": "stream",
     "text": [
      "len(commands)=30\n"
     ]
    }
   ],
   "source": [
    "#!/usr/bin/python\n",
    "\n",
    "import Quartz\n",
    "import time\n",
    "from Quartz import CGWindowListCopyWindowInfo, kCGWindowListExcludeDesktopElements, kCGNullWindowID\n",
    "from Foundation import NSSet, NSMutableSet\n",
    "\n",
    "wl1 = CGWindowListCopyWindowInfo(kCGWindowListExcludeDesktopElements, kCGNullWindowID)\n",
    "wl = Quartz.CGWindowListCopyWindowInfo( Quartz.kCGWindowListOptionAll, Quartz.kCGNullWindowID)\n",
    "wl = sorted(wl, key=lambda k: k.valueForKey_('kCGWindowOwnerPID'))\n",
    "\n",
    "def soapWindowList(wl):\n",
    "    for v in wl:\n",
    "        if v.valueForKey_('kCGWindowOwnerName') == \"SOAP\":\n",
    "            print ( \n",
    "            str(v.valueForKey_('kCGWindowOwnerPID') or '?').rjust(7) + \n",
    "                ' ' + str(v.valueForKey_('kCGWindowNumber') or '?').rjust(5) + \n",
    "                ' {' + ('' if v.valueForKey_('kCGWindowBounds') is None else ( \n",
    "                        str(int(v.valueForKey_('kCGWindowBounds').valueForKey_('X')))     + ',' + \n",
    "                        str(int(v.valueForKey_('kCGWindowBounds').valueForKey_('Y')))     + ',' + \n",
    "                        str(int(v.valueForKey_('kCGWindowBounds').valueForKey_('Width'))) + ',' + \n",
    "                        str(int(v.valueForKey_('kCGWindowBounds').valueForKey_('Height'))) \n",
    "                    ) ).ljust(21) + '}' + \n",
    "                '\\t[' + ((v.valueForKey_('kCGWindowOwnerName') or '') + ']') + \n",
    "                ('' if v.valueForKey_('kCGWindowName') is None else (' ' + \n",
    "                v.valueForKey_('kCGWindowName') or '')) \n",
    "            )\n",
    "# soapWindowList(wl)\n",
    "\n",
    "commands = []\n",
    "for filename in orb_filenames:\n",
    "    # args = [\"open\", \"-n\", \"-W\", f\"{folder}/{filename}\"]\n",
    "    args = [\"open\", \"-n\", \"-j\", \"-W\", f\"{folder}/{filename}\"]\n",
    "    commands.append(args)\n",
    "\n",
    "print(f\"len(commands)={len(commands)}\")"
   ]
  },
  {
   "cell_type": "code",
   "execution_count": 5,
   "id": "5cc077d1",
   "metadata": {},
   "outputs": [
    {
     "name": "stderr",
     "output_type": "stream",
     "text": [
      "31:84: execution error: System Events got an error: Can’t set application process \"SOAP\" to false. (-10006)\n",
      "57:66: execution error: System Events got an error: Can’t set process \"SOAP\" to true. (-10006)\n",
      "57:66: execution error: System Events got an error: Can’t set process \"SOAP\" to true. (-10006)\n",
      "57:66: execution error: System Events got an error: Can’t set process \"SOAP\" to true. (-10006)\n",
      "57:66: execution error: System Events got an error: Can’t set process \"SOAP\" to true. (-10006)\n"
     ]
    }
   ],
   "source": [
    "import subprocess\n",
    "from itertools import islice\n",
    "\n",
    "max_workers = 8  # no more than 2 concurrent processes\n",
    "processes = (subprocess.Popen(cmd) for cmd in commands)\n",
    "running_processes = list(islice(processes, max_workers))  # start new processes\n",
    "while running_processes:\n",
    "    for i, process in enumerate(running_processes):\n",
    "        if process.poll() is not None:  # the process has finished\n",
    "            running_processes[i] = next(processes, None)  # start new process\n",
    "            if running_processes[i] is None: # no new processes\n",
    "                del running_processes[i]\n",
    "                break\n",
    "        else:\n",
    "            time.sleep(0.5)\n",
    "            subprocess.run(osascript_unfocus)        \n",
    "            subprocess.run(osascript_focus)"
   ]
  },
  {
   "cell_type": "code",
   "execution_count": 4,
   "id": "acfd86e4",
   "metadata": {},
   "outputs": [
    {
     "name": "stdout",
     "output_type": "stream",
     "text": [
      "open -n -j -W ./outputs/starlink-100-sat-single/starlink_100_sats_0.orb\n",
      "53489\n"
     ]
    },
    {
     "name": "stderr",
     "output_type": "stream",
     "text": [
      "31:84: execution error: System Events got an error: Can’t set application process \"SOAP\" to false. (-10006)\n",
      "57:66: execution error: System Events got an error: Can’t set process \"SOAP\" to true. (-10006)\n"
     ]
    },
    {
     "name": "stdout",
     "output_type": "stream",
     "text": [
      "open -n -j -W ./outputs/starlink-100-sat-single/starlink_100_sats_1.orb\n",
      "53542\n"
     ]
    },
    {
     "name": "stderr",
     "output_type": "stream",
     "text": [
      "31:84: execution error: System Events got an error: Can’t set application process \"SOAP\" to false. (-10006)\n",
      "57:66: execution error: System Events got an error: Can’t set process \"SOAP\" to true. (-10006)\n"
     ]
    },
    {
     "name": "stdout",
     "output_type": "stream",
     "text": [
      "open -n -j -W ./outputs/starlink-100-sat-single/starlink_100_sats_2.orb\n",
      "53589\n"
     ]
    },
    {
     "name": "stderr",
     "output_type": "stream",
     "text": [
      "31:84: execution error: System Events got an error: Can’t set application process \"SOAP\" to false. (-10006)\n",
      "57:66: execution error: System Events got an error: Can’t set process \"SOAP\" to true. (-10006)\n"
     ]
    },
    {
     "name": "stdout",
     "output_type": "stream",
     "text": [
      "open -n -j -W ./outputs/starlink-100-sat-single/starlink_100_sats_3.orb\n",
      "53638\n"
     ]
    },
    {
     "name": "stderr",
     "output_type": "stream",
     "text": [
      "31:84: execution error: System Events got an error: Can’t set application process \"SOAP\" to false. (-10006)\n",
      "57:66: execution error: System Events got an error: Can’t set process \"SOAP\" to true. (-10006)\n"
     ]
    },
    {
     "name": "stdout",
     "output_type": "stream",
     "text": [
      "open -n -j -W ./outputs/starlink-100-sat-single/starlink_100_sats_4.orb\n",
      "53687\n"
     ]
    },
    {
     "name": "stderr",
     "output_type": "stream",
     "text": [
      "31:84: execution error: System Events got an error: Can’t set application process \"SOAP\" to false. (-10006)\n",
      "57:66: execution error: System Events got an error: Can’t set process \"SOAP\" to true. (-10006)\n"
     ]
    },
    {
     "name": "stdout",
     "output_type": "stream",
     "text": [
      "open -n -j -W ./outputs/starlink-100-sat-single/starlink_100_sats_5.orb\n",
      "53743\n"
     ]
    },
    {
     "name": "stderr",
     "output_type": "stream",
     "text": [
      "31:84: execution error: System Events got an error: Can’t set application process \"SOAP\" to false. (-10006)\n",
      "57:66: execution error: System Events got an error: Can’t set process \"SOAP\" to true. (-10006)\n"
     ]
    },
    {
     "name": "stdout",
     "output_type": "stream",
     "text": [
      "open -n -j -W ./outputs/starlink-100-sat-single/starlink_100_sats_6.orb\n",
      "53785\n"
     ]
    },
    {
     "name": "stderr",
     "output_type": "stream",
     "text": [
      "31:84: execution error: System Events got an error: Can’t set application process \"SOAP\" to false. (-10006)\n",
      "57:66: execution error: System Events got an error: Can’t set process \"SOAP\" to true. (-10006)\n"
     ]
    },
    {
     "name": "stdout",
     "output_type": "stream",
     "text": [
      "open -n -j -W ./outputs/starlink-100-sat-single/starlink_100_sats_7.orb\n",
      "53834\n"
     ]
    },
    {
     "name": "stderr",
     "output_type": "stream",
     "text": [
      "31:84: execution error: System Events got an error: Can’t set application process \"SOAP\" to false. (-10006)\n",
      "57:66: execution error: System Events got an error: Can’t set process \"SOAP\" to true. (-10006)\n"
     ]
    },
    {
     "name": "stdout",
     "output_type": "stream",
     "text": [
      "open -n -j -W ./outputs/starlink-100-sat-single/starlink_100_sats_8.orb\n",
      "53883\n"
     ]
    },
    {
     "name": "stderr",
     "output_type": "stream",
     "text": [
      "31:84: execution error: System Events got an error: Can’t set application process \"SOAP\" to false. (-10006)\n",
      "57:66: execution error: System Events got an error: Can’t set process \"SOAP\" to true. (-10006)\n"
     ]
    },
    {
     "name": "stdout",
     "output_type": "stream",
     "text": [
      "open -n -j -W ./outputs/starlink-100-sat-single/starlink_100_sats_9.orb\n",
      "53930\n"
     ]
    },
    {
     "name": "stderr",
     "output_type": "stream",
     "text": [
      "31:84: execution error: System Events got an error: Can’t set application process \"SOAP\" to false. (-10006)\n",
      "57:66: execution error: System Events got an error: Can’t set process \"SOAP\" to true. (-10006)\n"
     ]
    },
    {
     "name": "stdout",
     "output_type": "stream",
     "text": [
      "open -n -j -W ./outputs/starlink-100-sat-single/starlink_100_sats_10.orb\n",
      "53981\n"
     ]
    },
    {
     "name": "stderr",
     "output_type": "stream",
     "text": [
      "31:84: execution error: System Events got an error: Can’t set application process \"SOAP\" to false. (-10006)\n",
      "57:66: execution error: System Events got an error: Can’t set process \"SOAP\" to true. (-10006)\n"
     ]
    },
    {
     "name": "stdout",
     "output_type": "stream",
     "text": [
      "open -n -j -W ./outputs/starlink-100-sat-single/starlink_100_sats_11.orb\n",
      "54030\n"
     ]
    },
    {
     "name": "stderr",
     "output_type": "stream",
     "text": [
      "31:84: execution error: System Events got an error: Can’t set application process \"SOAP\" to false. (-10006)\n",
      "57:66: execution error: System Events got an error: Can’t set process \"SOAP\" to true. (-10006)\n"
     ]
    },
    {
     "name": "stdout",
     "output_type": "stream",
     "text": [
      "open -n -j -W ./outputs/starlink-100-sat-single/starlink_100_sats_12.orb\n",
      "54075\n"
     ]
    },
    {
     "name": "stderr",
     "output_type": "stream",
     "text": [
      "31:84: execution error: System Events got an error: Can’t set application process \"SOAP\" to false. (-10006)\n",
      "57:66: execution error: System Events got an error: Can’t set process \"SOAP\" to true. (-10006)\n"
     ]
    },
    {
     "name": "stdout",
     "output_type": "stream",
     "text": [
      "open -n -j -W ./outputs/starlink-100-sat-single/starlink_100_sats_13.orb\n",
      "54131\n"
     ]
    },
    {
     "name": "stderr",
     "output_type": "stream",
     "text": [
      "31:84: execution error: System Events got an error: Can’t set application process \"SOAP\" to false. (-10006)\n",
      "57:66: execution error: System Events got an error: Can’t set process \"SOAP\" to true. (-10006)\n"
     ]
    },
    {
     "name": "stdout",
     "output_type": "stream",
     "text": [
      "open -n -j -W ./outputs/starlink-100-sat-single/starlink_100_sats_14.orb\n",
      "54180\n"
     ]
    },
    {
     "name": "stderr",
     "output_type": "stream",
     "text": [
      "31:84: execution error: System Events got an error: Can’t set application process \"SOAP\" to false. (-10006)\n",
      "57:66: execution error: System Events got an error: Can’t set process \"SOAP\" to true. (-10006)\n"
     ]
    },
    {
     "name": "stdout",
     "output_type": "stream",
     "text": [
      "open -n -j -W ./outputs/starlink-100-sat-single/starlink_100_sats_15.orb\n",
      "54229\n"
     ]
    },
    {
     "name": "stderr",
     "output_type": "stream",
     "text": [
      "31:84: execution error: System Events got an error: Can’t set application process \"SOAP\" to false. (-10006)\n",
      "57:66: execution error: System Events got an error: Can’t set process \"SOAP\" to true. (-10006)\n"
     ]
    },
    {
     "name": "stdout",
     "output_type": "stream",
     "text": [
      "open -n -j -W ./outputs/starlink-100-sat-single/starlink_100_sats_16.orb\n",
      "54271\n"
     ]
    },
    {
     "name": "stderr",
     "output_type": "stream",
     "text": [
      "31:84: execution error: System Events got an error: Can’t set application process \"SOAP\" to false. (-10006)\n",
      "57:66: execution error: System Events got an error: Can’t set process \"SOAP\" to true. (-10006)\n"
     ]
    },
    {
     "name": "stdout",
     "output_type": "stream",
     "text": [
      "open -n -j -W ./outputs/starlink-100-sat-single/starlink_100_sats_17.orb\n",
      "54320\n"
     ]
    },
    {
     "name": "stderr",
     "output_type": "stream",
     "text": [
      "31:84: execution error: System Events got an error: Can’t set application process \"SOAP\" to false. (-10006)\n",
      "57:66: execution error: System Events got an error: Can’t set process \"SOAP\" to true. (-10006)\n"
     ]
    },
    {
     "name": "stdout",
     "output_type": "stream",
     "text": [
      "open -n -j -W ./outputs/starlink-100-sat-single/starlink_100_sats_18.orb\n",
      "54376\n"
     ]
    },
    {
     "name": "stderr",
     "output_type": "stream",
     "text": [
      "31:84: execution error: System Events got an error: Can’t set application process \"SOAP\" to false. (-10006)\n",
      "57:66: execution error: System Events got an error: Can’t set process \"SOAP\" to true. (-10006)\n"
     ]
    },
    {
     "name": "stdout",
     "output_type": "stream",
     "text": [
      "open -n -j -W ./outputs/starlink-100-sat-single/starlink_100_sats_19.orb\n",
      "54425\n"
     ]
    },
    {
     "name": "stderr",
     "output_type": "stream",
     "text": [
      "31:84: execution error: System Events got an error: Can’t set application process \"SOAP\" to false. (-10006)\n",
      "57:66: execution error: System Events got an error: Can’t set process \"SOAP\" to true. (-10006)\n"
     ]
    },
    {
     "name": "stdout",
     "output_type": "stream",
     "text": [
      "open -n -j -W ./outputs/starlink-100-sat-single/starlink_100_sats_20.orb\n",
      "54474\n",
      "open -n -j -W ./outputs/starlink-100-sat-single/starlink_100_sats_21.orb\n",
      "54516\n"
     ]
    },
    {
     "name": "stderr",
     "output_type": "stream",
     "text": [
      "31:84: execution error: System Events got an error: Can’t set application process \"SOAP\" to false. (-10006)\n",
      "57:66: execution error: System Events got an error: Can’t set process \"SOAP\" to true. (-10006)\n"
     ]
    },
    {
     "name": "stdout",
     "output_type": "stream",
     "text": [
      "open -n -j -W ./outputs/starlink-100-sat-single/starlink_100_sats_22.orb\n",
      "54560\n"
     ]
    },
    {
     "name": "stderr",
     "output_type": "stream",
     "text": [
      "31:84: execution error: System Events got an error: Can’t set application process \"SOAP\" to false. (-10006)\n",
      "57:66: execution error: System Events got an error: Can’t set process \"SOAP\" to true. (-10006)\n"
     ]
    },
    {
     "name": "stdout",
     "output_type": "stream",
     "text": [
      "open -n -j -W ./outputs/starlink-100-sat-single/starlink_100_sats_23.orb\n",
      "54612\n"
     ]
    },
    {
     "name": "stderr",
     "output_type": "stream",
     "text": [
      "31:84: execution error: System Events got an error: Can’t set application process \"SOAP\" to false. (-10006)\n",
      "57:66: execution error: System Events got an error: Can’t set process \"SOAP\" to true. (-10006)\n"
     ]
    },
    {
     "name": "stdout",
     "output_type": "stream",
     "text": [
      "open -n -j -W ./outputs/starlink-100-sat-single/starlink_100_sats_24.orb\n",
      "54663\n"
     ]
    },
    {
     "name": "stderr",
     "output_type": "stream",
     "text": [
      "31:84: execution error: System Events got an error: Can’t set application process \"SOAP\" to false. (-10006)\n",
      "57:66: execution error: System Events got an error: Can’t set process \"SOAP\" to true. (-10006)\n"
     ]
    },
    {
     "name": "stdout",
     "output_type": "stream",
     "text": [
      "open -n -j -W ./outputs/starlink-100-sat-single/starlink_100_sats_25.orb\n",
      "54712\n"
     ]
    },
    {
     "name": "stderr",
     "output_type": "stream",
     "text": [
      "31:84: execution error: System Events got an error: Can’t set application process \"SOAP\" to false. (-10006)\n",
      "57:66: execution error: System Events got an error: Can’t set process \"SOAP\" to true. (-10006)\n"
     ]
    },
    {
     "name": "stdout",
     "output_type": "stream",
     "text": [
      "open -n -j -W ./outputs/starlink-100-sat-single/starlink_100_sats_26.orb\n",
      "54761\n"
     ]
    },
    {
     "name": "stderr",
     "output_type": "stream",
     "text": [
      "31:84: execution error: System Events got an error: Can’t set application process \"SOAP\" to false. (-10006)\n",
      "57:66: execution error: System Events got an error: Can’t set process \"SOAP\" to true. (-10006)\n"
     ]
    },
    {
     "name": "stdout",
     "output_type": "stream",
     "text": [
      "open -n -j -W ./outputs/starlink-100-sat-single/starlink_100_sats_27.orb\n",
      "54818\n"
     ]
    },
    {
     "name": "stderr",
     "output_type": "stream",
     "text": [
      "31:84: execution error: System Events got an error: Can’t set application process \"SOAP\" to false. (-10006)\n",
      "57:66: execution error: System Events got an error: Can’t set process \"SOAP\" to true. (-10006)\n"
     ]
    },
    {
     "name": "stdout",
     "output_type": "stream",
     "text": [
      "open -n -j -W ./outputs/starlink-100-sat-single/starlink_100_sats_28.orb\n",
      "54860\n"
     ]
    },
    {
     "name": "stderr",
     "output_type": "stream",
     "text": [
      "31:84: execution error: System Events got an error: Can’t set application process \"SOAP\" to false. (-10006)\n",
      "57:66: execution error: System Events got an error: Can’t set process \"SOAP\" to true. (-10006)\n"
     ]
    },
    {
     "name": "stdout",
     "output_type": "stream",
     "text": [
      "open -n -j -W ./outputs/starlink-100-sat-single/starlink_100_sats_29.orb\n",
      "54909\n"
     ]
    },
    {
     "name": "stderr",
     "output_type": "stream",
     "text": [
      "31:84: execution error: System Events got an error: Can’t set application process \"SOAP\" to false. (-10006)\n",
      "57:66: execution error: System Events got an error: Can’t set process \"SOAP\" to true. (-10006)\n"
     ]
    }
   ],
   "source": [
    "import subprocess\n",
    "import time\n",
    "\n",
    "command = \"wine\"\n",
    "soap_path = \"/home/zeno/.wine/drive_c/SOAP/bin64/soap.exe\"\n",
    "\n",
    "command = \"open\"\n",
    "soap_path = \"\"\n",
    "\n",
    "for filename in orb_filenames:\n",
    "    # args = [\"open\", \"-n\", \"-W\", f\"{folder}/{filename}\"]\n",
    "    args = [\"open\", \"-n\", \"-j\", \"-W\", f\"{folder}/{filename}\"]\n",
    "    print(\" \".join(args))\n",
    "    # orb_path = \"\" + folder + \"/\" + filename + \"\"\n",
    "    # process = subprocess.Popen(args)\n",
    "    # process = subprocess.Popen([command, orb_path], stdout=subprocess.DEVNULL, stderr=subprocess.STDOUT)\n",
    "    process = subprocess.Popen(args)\n",
    "    print(process.pid)\n",
    "    while process.poll() is None:\n",
    "        time.sleep(0.5)\n",
    "        subprocess.run(osascript_unfocus)        \n",
    "        subprocess.run(osascript_focus)\n",
    "    # process.wait()"
   ]
  },
  {
   "cell_type": "markdown",
   "id": "30c432e2",
   "metadata": {},
   "source": [
    "## Generate Barcodes"
   ]
  },
  {
   "cell_type": "code",
   "execution_count": null,
   "id": "f69c1485",
   "metadata": {},
   "outputs": [],
   "source": [
    "from zz_persistence import *\n",
    "\n",
    "diagrams = {}\n",
    "diagrams_clique = {}\n",
    "\n",
    "filepaths = get_csv_files(folder)\n",
    "for filepath in filepaths:\n",
    "    if not filepath.endswith(\"Contact Analysis.csv\"):\n",
    "        continue\n",
    "    contact_plan = ca.contact_analysis_parser(filepath)\n",
    "    graph = ca.construct_graph(contact_plan)\n",
    "    \n",
    "    weighted_simplex = ca.construct_weighted_simplex(graph)\n",
    "    clique_complex = ca.construct_clique_complex(graph)\n",
    "    \n",
    "    zz, dgms, cells = calculate_zz_persistence(weighted_simplex)\n",
    "    zz_clique, dgms_clique, cells_clique = calculate_zz_persistence(clique_complex)\n",
    "    \n",
    "    diagrams[filepath.split(\"/\")[-1]] = dgms\n",
    "    diagrams_clique[filepath.split(\"/\")[-1]] = dgms_clique\n",
    "    \n",
    "# print(diagrams)\n",
    "# print(diagrams_clique)"
   ]
  },
  {
   "cell_type": "code",
   "execution_count": null,
   "id": "e2fd09c7",
   "metadata": {},
   "outputs": [],
   "source": [
    "dim = 1"
   ]
  },
  {
   "cell_type": "markdown",
   "id": "8b2994ba",
   "metadata": {},
   "source": [
    "## Compare Earth / Moon Simulations"
   ]
  },
  {
   "cell_type": "code",
   "execution_count": null,
   "id": "55c6b294",
   "metadata": {},
   "outputs": [],
   "source": [
    "# Compare Earth / Moon\n",
    "for i in range(n):\n",
    "    for j in range(i + 1, n):\n",
    "        print(\"{} : {}\".format(i, j))\n",
    "\n",
    "        diagram_a = diagrams[\"emm_moon_\" + str(i) + \" Contact Analysis.csv\"]\n",
    "        diagram_b = diagrams[\"emm_moon_\" + str(j) + \" Contact Analysis.csv\"]\n",
    "        \n",
    "        diagram_a_clique = diagrams_clique[\"emm_moon_\" + str(i) + \" Contact Analysis.csv\"]\n",
    "        diagram_b_clique = diagrams_clique[\"emm_moon_\" + str(j) + \" Contact Analysis.csv\"]\n",
    "\n",
    "        wdist = d.wasserstein_distance(diagram_a[dim], diagram_b[dim], q=2)\n",
    "        print(\"2-Wasserstein distance between {}-dimensional persistence diagrams: {}\".format(dim, wdist))\n",
    "\n",
    "        bdist = d.bottleneck_distance(diagram_a[dim], diagram_b[dim])\n",
    "        print(\"Bottleneck distance between {}-dimensional persistence diagrams: {}\".format(dim, bdist))\n",
    "        \n",
    "        wdist_clique = d.wasserstein_distance(diagram_a_clique[dim], diagram_b_clique[dim], q=2)\n",
    "        print(\"2-Wasserstein distance between {}-dimensional persistence diagrams (Clique): {}\".format(dim, wdist_clique))\n",
    "\n",
    "        bdist_clique = d.bottleneck_distance(diagram_a_clique[dim], diagram_b_clique[dim])\n",
    "        print(\"Bottleneck distance between {}-dimensional persistence diagrams (Clique): {}\".format(dim, bdist_clique))\n",
    "        \n",
    "        "
   ]
  },
  {
   "cell_type": "markdown",
   "id": "665ce899",
   "metadata": {},
   "source": [
    "## Compare Earth / Mars Simulations"
   ]
  },
  {
   "cell_type": "code",
   "execution_count": null,
   "id": "fe3d6bbb",
   "metadata": {},
   "outputs": [],
   "source": [
    "# Compare Earth / Mars\n",
    "for i in range(n):\n",
    "    for j in range(i + 1, n):\n",
    "        print(\"{} : {}\".format(i, j))\n",
    "\n",
    "        diagram_a = diagrams[\"emm_mars_\" + str(i) + \" Contact Analysis.csv\"]\n",
    "        diagram_b = diagrams[\"emm_mars_\" + str(j) + \" Contact Analysis.csv\"]\n",
    "\n",
    "        diagram_a_clique = diagrams_clique[\"emm_mars_\" + str(i) + \" Contact Analysis.csv\"]\n",
    "        diagram_b_clique = diagrams_clique[\"emm_mars_\" + str(j) + \" Contact Analysis.csv\"]\n",
    "\n",
    "        wdist = d.wasserstein_distance(diagram_a[dim], diagram_b[dim], q=2)\n",
    "        print(\"2-Wasserstein distance between {}-dimensional persistence diagrams: {}\".format(dim, wdist))\n",
    "\n",
    "        bdist = d.bottleneck_distance(diagram_a[dim], diagram_b[dim])\n",
    "        print(\"Bottleneck distance between {}-dimensional persistence diagrams: {}\".format(dim, bdist))\n",
    "        \n",
    "        wdist_clique = d.wasserstein_distance(diagram_a_clique[dim], diagram_b_clique[dim], q=2)\n",
    "        print(\"2-Wasserstein distance between {}-dimensional persistence diagrams (Clique): {}\".format(dim, wdist_clique))\n",
    "\n",
    "        bdist_clique = d.bottleneck_distance(diagram_a_clique[dim], diagram_b_clique[dim])\n",
    "        print(\"Bottleneck distance between {}-dimensional persistence diagrams (Clique): {}\".format(dim, bdist_clique))\n",
    "        \n",
    "        "
   ]
  },
  {
   "cell_type": "markdown",
   "id": "70efc4c5",
   "metadata": {},
   "source": [
    "## Cross Compare Moon / Mars"
   ]
  },
  {
   "cell_type": "code",
   "execution_count": null,
   "id": "658521f4",
   "metadata": {},
   "outputs": [],
   "source": [
    "# Cross Compare Moon / Mars\n",
    "for i in range(n):\n",
    "    for j in range(n):\n",
    "        print(\"{} : {}\".format(i, j))\n",
    "\n",
    "        diagram_a = diagrams[\"emm_moon_\" + str(i) + \" Contact Analysis.csv\"]\n",
    "        diagram_b = diagrams[\"emm_mars_\" + str(j) + \" Contact Analysis.csv\"]\n",
    "        \n",
    "        diagram_a_clique = diagrams_clique[\"emm_moon_\" + str(i) + \" Contact Analysis.csv\"]\n",
    "        diagram_b_clique = diagrams_clique[\"emm_mars_\" + str(j) + \" Contact Analysis.csv\"]\n",
    "\n",
    "        wdist = d.wasserstein_distance(diagram_a[dim], diagram_b[dim], q=2)\n",
    "        print(\"2-Wasserstein distance between {}-dimensional persistence diagrams: {}\".format(dim, wdist))\n",
    "\n",
    "        bdist = d.bottleneck_distance(diagram_a[dim], diagram_b[dim])\n",
    "        print(\"Bottleneck distance between {}-dimensional persistence diagrams: {}\".format(dim, bdist))\n",
    "        \n",
    "        wdist_clique = d.wasserstein_distance(diagram_a_clique[dim], diagram_b_clique[dim], q=2)\n",
    "        print(\"2-Wasserstein distance between {}-dimensional persistence diagrams (Clique): {}\".format(dim, wdist_clique))\n",
    "\n",
    "        bdist_clique = d.bottleneck_distance(diagram_a_clique[dim], diagram_b_clique[dim])\n",
    "        print(\"Bottleneck distance between {}-dimensional persistence diagrams (Clique): {}\".format(dim, bdist_clique))\n",
    "        \n",
    "        "
   ]
  },
  {
   "cell_type": "code",
   "execution_count": null,
   "id": "d187eb79",
   "metadata": {},
   "outputs": [],
   "source": []
  }
 ],
 "metadata": {
  "kernelspec": {
   "display_name": "Python 3 (ipykernel)",
   "language": "python",
   "name": "python3"
  },
  "language_info": {
   "codemirror_mode": {
    "name": "ipython",
    "version": 3
   },
   "file_extension": ".py",
   "mimetype": "text/x-python",
   "name": "python",
   "nbconvert_exporter": "python",
   "pygments_lexer": "ipython3",
   "version": "3.10.9"
  }
 },
 "nbformat": 4,
 "nbformat_minor": 5
}
