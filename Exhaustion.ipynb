{
 "cells": [
  {
   "cell_type": "code",
   "execution_count": 1,
   "id": "c246a800",
   "metadata": {},
   "outputs": [],
   "source": [
    "import Interval_Matrix_Algebra_Calculator_v0 as imac\n",
    "import os\n",
    "import interval_distance_functions as idf\n",
    "import contact_analysis as ca\n",
    "\n",
    "import matplotlib.pyplot as plt\n"
   ]
  },
  {
   "cell_type": "code",
   "execution_count": 2,
   "id": "bd0a6290",
   "metadata": {},
   "outputs": [],
   "source": [
    "# filename = \"./outputs/sim-2022-08-26/moongnd_base Contact Analysis.csv\"\n",
    "filename = \"outputs/sim-2022-11-13/starlink_a Contact Analysis.csv\"\n",
    "A = imac.soapConverter(filename)"
   ]
  },
  {
   "cell_type": "code",
   "execution_count": 3,
   "id": "702ec05e",
   "metadata": {},
   "outputs": [
    {
     "name": "stdout",
     "output_type": "stream",
     "text": [
      "A : 40 x 40 Matrix\n",
      "Calculating 0-star\n",
      "Calculating 1-star\n",
      "Calculating 2-star\n",
      "Calculating 3-star\n",
      "Calculating 4-star\n",
      "Calculating 5-star\n"
     ]
    },
    {
     "ename": "KeyboardInterrupt",
     "evalue": "",
     "output_type": "error",
     "traceback": [
      "\u001b[0;31m---------------------------------------------------------------------------\u001b[0m",
      "\u001b[0;31mKeyboardInterrupt\u001b[0m                         Traceback (most recent call last)",
      "Cell \u001b[0;32mIn [3], line 28\u001b[0m\n\u001b[1;32m     26\u001b[0m \u001b[38;5;28;01mfor\u001b[39;00m k \u001b[38;5;129;01min\u001b[39;00m \u001b[38;5;28mrange\u001b[39m(\u001b[38;5;241m0\u001b[39m, m):\n\u001b[1;32m     27\u001b[0m     \u001b[38;5;28mprint\u001b[39m(\u001b[38;5;124m\"\u001b[39m\u001b[38;5;124mCalculating \u001b[39m\u001b[38;5;132;01m{}\u001b[39;00m\u001b[38;5;124m-star\u001b[39m\u001b[38;5;124m\"\u001b[39m\u001b[38;5;241m.\u001b[39mformat(k))\n\u001b[0;32m---> 28\u001b[0m     A_star \u001b[38;5;241m=\u001b[39m \u001b[43mimac\u001b[49m\u001b[38;5;241;43m.\u001b[39;49m\u001b[43mA_star_r\u001b[49m\u001b[43m(\u001b[49m\u001b[43mA\u001b[49m\u001b[43m,\u001b[49m\u001b[43m \u001b[49m\u001b[43mk\u001b[49m\u001b[43m)\u001b[49m\n\u001b[1;32m     30\u001b[0m     \u001b[38;5;28;01mfor\u001b[39;00m i \u001b[38;5;129;01min\u001b[39;00m \u001b[38;5;28mrange\u001b[39m(\u001b[38;5;241m0\u001b[39m, n):        \n\u001b[1;32m     31\u001b[0m         \u001b[38;5;28;01mfor\u001b[39;00m j \u001b[38;5;129;01min\u001b[39;00m \u001b[38;5;28mrange\u001b[39m(i \u001b[38;5;241m+\u001b[39m \u001b[38;5;241m1\u001b[39m, n):\n\u001b[1;32m     32\u001b[0m             \u001b[38;5;66;03m# print(\"\\ti = {}, j = {}\".format(i, j))\u001b[39;00m\n",
      "File \u001b[0;32m~/Documents/repositories/nasa-2022/satParsing/Interval_Matrix_Algebra_Calculator_v0.py:137\u001b[0m, in \u001b[0;36mA_star_r\u001b[0;34m(A, r)\u001b[0m\n\u001b[1;32m    135\u001b[0m curr_walk \u001b[38;5;241m=\u001b[39m A\n\u001b[1;32m    136\u001b[0m \u001b[38;5;28;01mfor\u001b[39;00m x \u001b[38;5;129;01min\u001b[39;00m \u001b[38;5;28mrange\u001b[39m(\u001b[38;5;241m2\u001b[39m, r\u001b[38;5;241m+\u001b[39m\u001b[38;5;241m1\u001b[39m):\n\u001b[0;32m--> 137\u001b[0m     curr_walk \u001b[38;5;241m=\u001b[39m \u001b[43minterval_matrix_mult\u001b[49m\u001b[43m(\u001b[49m\u001b[43mA\u001b[49m\u001b[43m,\u001b[49m\u001b[43mcurr_walk\u001b[49m\u001b[43m)\u001b[49m\n\u001b[1;32m    138\u001b[0m     temp \u001b[38;5;241m=\u001b[39m interval_matrix_sum(temp, curr_walk)\n\u001b[1;32m    139\u001b[0m     \u001b[38;5;66;03m#Add matrix_k_walk(A,x) to temp\u001b[39;00m\n",
      "File \u001b[0;32m~/Documents/repositories/nasa-2022/satParsing/Interval_Matrix_Algebra_Calculator_v0.py:39\u001b[0m, in \u001b[0;36minterval_matrix_mult\u001b[0;34m(X, Y)\u001b[0m\n\u001b[1;32m     37\u001b[0m     \u001b[38;5;28;01mfor\u001b[39;00m j \u001b[38;5;129;01min\u001b[39;00m \u001b[38;5;28mrange\u001b[39m(v): \u001b[38;5;66;03m#index of column\u001b[39;00m\n\u001b[1;32m     38\u001b[0m         \u001b[38;5;28;01mfor\u001b[39;00m k \u001b[38;5;129;01min\u001b[39;00m \u001b[38;5;28mrange\u001b[39m(v): \u001b[38;5;66;03m#index of \"sum\"\u001b[39;00m\n\u001b[0;32m---> 39\u001b[0m             result[i][j] \u001b[38;5;241m=\u001b[39m result[i][j]\u001b[38;5;241m|\u001b[39m(\u001b[43mX\u001b[49m\u001b[43m[\u001b[49m\u001b[43mi\u001b[49m\u001b[43m]\u001b[49m\u001b[43m[\u001b[49m\u001b[43mk\u001b[49m\u001b[43m]\u001b[49m\u001b[43m \u001b[49m\u001b[38;5;241;43m&\u001b[39;49m\u001b[43m \u001b[49m\u001b[43mY\u001b[49m\u001b[43m[\u001b[49m\u001b[43mk\u001b[49m\u001b[43m]\u001b[49m\u001b[43m[\u001b[49m\u001b[43mj\u001b[49m\u001b[43m]\u001b[49m)\n\u001b[1;32m     40\u001b[0m             \u001b[38;5;66;03m#this unions current [i][j] entry with intersection of X[i][k] and Y[k][j], as in matrix multiplication\u001b[39;00m\n\u001b[1;32m     41\u001b[0m \u001b[38;5;28;01mreturn\u001b[39;00m result\n",
      "File \u001b[0;32m~/.local/lib/python3.10/site-packages/portion/interval.py:518\u001b[0m, in \u001b[0;36mInterval.__and__\u001b[0;34m(self, other)\u001b[0m\n\u001b[1;32m    515\u001b[0m         \u001b[38;5;28;01melse\u001b[39;00m:\n\u001b[1;32m    516\u001b[0m             \u001b[38;5;28;01massert\u001b[39;00m \u001b[38;5;28;01mFalse\u001b[39;00m\n\u001b[0;32m--> 518\u001b[0m \u001b[38;5;28;01mreturn\u001b[39;00m \u001b[38;5;28;43mself\u001b[39;49m\u001b[38;5;241;43m.\u001b[39;49m\u001b[38;5;18;43m__class__\u001b[39;49m\u001b[43m(\u001b[49m\u001b[38;5;241;43m*\u001b[39;49m\u001b[43mintersections\u001b[49m\u001b[43m)\u001b[49m\n",
      "File \u001b[0;32m~/.local/lib/python3.10/site-packages/portion/interval.py:116\u001b[0m, in \u001b[0;36mInterval.__init__\u001b[0;34m(self, *intervals)\u001b[0m\n\u001b[1;32m    113\u001b[0m     \u001b[38;5;28;01melse\u001b[39;00m:\n\u001b[1;32m    114\u001b[0m         \u001b[38;5;28;01mraise\u001b[39;00m \u001b[38;5;167;01mTypeError\u001b[39;00m(\u001b[38;5;124m\"\u001b[39m\u001b[38;5;124mParameters must be Interval instances\u001b[39m\u001b[38;5;124m\"\u001b[39m)\n\u001b[0;32m--> 116\u001b[0m \u001b[38;5;28;01mif\u001b[39;00m \u001b[38;5;28;43mlen\u001b[39;49m\u001b[43m(\u001b[49m\u001b[38;5;28;43mself\u001b[39;49m\u001b[38;5;241;43m.\u001b[39;49m\u001b[43m_intervals\u001b[49m\u001b[43m)\u001b[49m \u001b[38;5;241m==\u001b[39m \u001b[38;5;241m0\u001b[39m:\n\u001b[1;32m    117\u001b[0m     \u001b[38;5;66;03m# So we have at least one (empty) interval\u001b[39;00m\n\u001b[1;32m    118\u001b[0m     \u001b[38;5;28mself\u001b[39m\u001b[38;5;241m.\u001b[39m_intervals\u001b[38;5;241m.\u001b[39mappend(Atomic(Bound\u001b[38;5;241m.\u001b[39mOPEN, inf, \u001b[38;5;241m-\u001b[39minf, Bound\u001b[38;5;241m.\u001b[39mOPEN))\n\u001b[1;32m    119\u001b[0m \u001b[38;5;28;01melse\u001b[39;00m:\n\u001b[1;32m    120\u001b[0m     \u001b[38;5;66;03m# Sort intervals by lower bound, closed first.\u001b[39;00m\n",
      "\u001b[0;31mKeyboardInterrupt\u001b[0m: "
     ]
    }
   ],
   "source": [
    "import portion as P\n",
    "import numpy as np \n",
    "\n",
    "# TODO : Move this to the interval_distance_functions file\n",
    "def get_length(intervals, min, max):\n",
    "    length = 0\n",
    "\n",
    "    intervals = list(intervals)\n",
    "    for interval in intervals:\n",
    "        if interval == P.empty():\n",
    "            continue\n",
    "        upper = np.minimum(interval.upper, max)\n",
    "        lower = np.maximum(min, interval.lower)\n",
    "        length += upper - lower\n",
    "    return length\n",
    "\n",
    "n = len(A)\n",
    "m = 10 # 6\n",
    "print(\"A : {0} x {0} Matrix\".format(n))\n",
    "\n",
    "start_time = 0\n",
    "end_time = 86400\n",
    "\n",
    "L = {}\n",
    "\n",
    "for k in range(0, m):\n",
    "    print(\"Calculating {}-star\".format(k))\n",
    "    A_star = imac.A_star_r(A, k)\n",
    "\n",
    "    for i in range(0, n):        \n",
    "        for j in range(i + 1, n):\n",
    "            # print(\"\\ti = {}, j = {}\".format(i, j))\n",
    "            entry = A_star[i][j]\n",
    "            # print(entry)\n",
    "            entry_length = get_length(entry, start_time, end_time)\n",
    "            L[(k, i, j)] = entry_length\n",
    "            # print(get_length(entry, start_time, end_time))\n",
    "\n",
    "x = [i for i in range(m)]\n",
    "\n",
    "fig, ax = plt.subplots(1, figsize=(8, 6))\n",
    "ax.set_xlabel('k')\n",
    "ax.set_ylabel('time in seconds')\n",
    "fig.suptitle('$L(\\mu^k)(i, j) = $ sum of intervals in entry $(i, j)$', fontsize=15)\n",
    "\n",
    "y_list = []\n",
    "for i in range(0, n):\n",
    "    for j in range(i + 1, n):\n",
    "        y = []\n",
    "        for k in range(0, m):\n",
    "            interval_sum = L[(k, i, j)]\n",
    "            y.append(interval_sum)\n",
    "        y_list.append(y)\n",
    "        # ax.plot(x, y, label=\"{},{}\".format(i, j))\n",
    "    # interval_sum = L[(k, i, j)]\n",
    "    # y.append(interval_sum)\n",
    "    # print(\"L(mu^{})({}, {}) = {}\".format(k, i, j, interval_sum))\n",
    "# print(len(y_list))            \n",
    "y_list_average = []\n",
    "for k in range(0, m):\n",
    "    average_sum = 0\n",
    "    for y in y_list:\n",
    "        average_sum += y[k]\n",
    "    average = average_sum / len(y_list)\n",
    "    y_list_average.append(average)\n",
    "# print(y_list_average)\n",
    "   \n",
    "# Add a legend, and position it on the lower right (with no box)\n",
    "# plt.legend(title=\"(i, j)\", frameon=False)\n",
    "ax.plot(x, y_list_average, 'go--', linewidth=2)\n",
    "plt.show()"
   ]
  },
  {
   "cell_type": "markdown",
   "id": "fe4220eb",
   "metadata": {},
   "source": [
    "## Complement Code"
   ]
  },
  {
   "cell_type": "code",
   "execution_count": null,
   "id": "310e249f",
   "metadata": {},
   "outputs": [],
   "source": []
  }
 ],
 "metadata": {
  "kernelspec": {
   "display_name": "Python 3 (ipykernel)",
   "language": "python",
   "name": "python3"
  },
  "language_info": {
   "codemirror_mode": {
    "name": "ipython",
    "version": 3
   },
   "file_extension": ".py",
   "mimetype": "text/x-python",
   "name": "python",
   "nbconvert_exporter": "python",
   "pygments_lexer": "ipython3",
   "version": "3.10.8"
  }
 },
 "nbformat": 4,
 "nbformat_minor": 5
}
