{
 "cells": [
  {
   "cell_type": "markdown",
   "id": "c9ef0eb4",
   "metadata": {},
   "source": [
    "# Earth / Moon vs. Earth / Mars Barcodes"
   ]
  },
  {
   "cell_type": "markdown",
   "id": "5abfd2dd",
   "metadata": {},
   "source": [
    "### Setup Base"
   ]
  },
  {
   "cell_type": "code",
   "execution_count": 2,
   "id": "0d0815f8",
   "metadata": {},
   "outputs": [],
   "source": [
    "from os_utilities import *\n",
    "from orb_builder import *\n",
    "import time_utilities as tu\n",
    "\n",
    "orb_filenames = [] # used to keep track of what files to feed into soap\n",
    "\n",
    "\n",
    "prefix = \"starlink\" # earth / moon / mars\n",
    "n = 1 # number of simulations to generate\n",
    "k = 50 # number of satellites to sample from starlink\n",
    "\n",
    "folder_name = \"sim-2023-03-23-rnd\"\n",
    "# folder_name = \"starlink-{}-sat-single\".format(k)\n",
    "\n",
    "folder = \"./outputs/\" + folder_name\n",
    "make_folder(folder)\n",
    "\n",
    "starlink = build_satellites_csv(\"starlink\")\n",
    "moon_sats = get_moon_platforms()\n",
    "mars_sats = get_mars_platforms()\n",
    "ground = [\n",
    "    create_ground_object_dictionary(\"Ground-Albany\", 42.685012663456163, -73.82479012295363, 0),\n",
    "    create_ground_object_dictionary(\"Ground-Sydney\", -33.868888888888889, 151.20939697339508, 0)\n",
    "]\n",
    "norad = build_satellites_from_tle(\"./sources/tdrss.tle\")\n",
    "\n",
    "import datetime\n",
    "import random\n",
    "\n",
    "year = 2022\n",
    "months = 24 # 8 years\n",
    "months = 12 # 8 years\n",
    "month_days = [31, 28, 31, 30, 31, 30, 31, 31, 30, 31, 30, 31]\n",
    "\n",
    "dates = []\n",
    "for j in range(months):\n",
    "    \n",
    "    if j > 0 and j % 12 == 0:\n",
    "        year += 1\n",
    "    month_index = j % 12\n",
    "    day = random.randint(1, month_days[month_index])\n",
    "    # day = 1\n",
    "    date = datetime.datetime(year, month_index + 1, day)\n",
    "    date = tu.get_random_date()\n",
    "    dates.append(date)\n",
    "# print(len(dates))\n",
    "# print(dates)\n",
    "# dates = []\n"
   ]
  },
  {
   "cell_type": "code",
   "execution_count": 3,
   "id": "a9f6ea40",
   "metadata": {},
   "outputs": [],
   "source": [
    "for i in range(n):\n",
    "    for d in dates:\n",
    "        name = prefix + \"_\" + str(k) + \"_sats_\" + d.strftime(\"%Y-%m\") + \"_\" + str(i) # \"%Y-%m-%d\"\n",
    "\n",
    "        subset = sample_sats(starlink, k)\n",
    "\n",
    "        # track which satellites were chosen for subsequent simulations\n",
    "        subset_names = []\n",
    "        for satellite in subset:\n",
    "            subset_names.append(satellite[\"object_name\"])\n",
    "\n",
    "        satellites = subset # + moon_sats # + ground\n",
    "\n",
    "        orb_filenames.append(name + \".orb\")\n",
    "\n",
    "        save_to_outputs_file(\n",
    "            generate_orb(satellites, name, d),\n",
    "            folder_name + \"/\" + name, \"orb\")"
   ]
  },
  {
   "cell_type": "markdown",
   "id": "66636823",
   "metadata": {},
   "source": [
    "## Earth / Moon System"
   ]
  },
  {
   "cell_type": "code",
   "execution_count": 2,
   "id": "5ebfaa58",
   "metadata": {},
   "outputs": [],
   "source": [
    "for i in range(n):\n",
    "    for d in dates:\n",
    "\n",
    "        name = prefix + \"_moon_\" + d.strftime(\"%Y-%m\") + \"_\" + str(i)\n",
    "\n",
    "        subset = sample_sats(starlink, k)\n",
    "\n",
    "        # track which satellites were chosen for subsequent simulations\n",
    "        subset_names = []\n",
    "        for satellite in subset:\n",
    "            subset_names.append(satellite[\"object_name\"])\n",
    "\n",
    "        satellites = subset + moon_sats # + ground\n",
    "\n",
    "        orb_filenames.append(name + \".orb\")\n",
    "\n",
    "        save_to_outputs_file(\n",
    "            generate_orb(satellites, name, d),\n",
    "            folder_name + \"/\" + name, \"orb\")"
   ]
  },
  {
   "cell_type": "markdown",
   "id": "64a615bb",
   "metadata": {},
   "source": [
    "## Earth / Mars System"
   ]
  },
  {
   "cell_type": "code",
   "execution_count": 3,
   "id": "42350773",
   "metadata": {},
   "outputs": [],
   "source": [
    "for i in range(n):\n",
    "    for d in dates:\n",
    "\n",
    "        name = prefix + \"_mars_\" + d.strftime(\"%Y-%m\") + \"_\" + str(i)\n",
    "\n",
    "        subset = sample_sats(starlink, k + 1)\n",
    "\n",
    "        # track which satellites were chosen for subsequent simulations\n",
    "        subset_names = []\n",
    "        for satellite in subset:\n",
    "            subset_names.append(satellite[\"object_name\"])\n",
    "\n",
    "        satellites = subset + mars_sats # + ground\n",
    "\n",
    "        orb_filenames.append(name + \".orb\")\n",
    "\n",
    "        save_to_outputs_file(\n",
    "            generate_orb(satellites, name, d),\n",
    "            folder_name + \"/\" + name, \"orb\")"
   ]
  },
  {
   "cell_type": "markdown",
   "id": "5505f1b6",
   "metadata": {},
   "source": [
    "## Run Soap"
   ]
  },
  {
   "cell_type": "code",
   "execution_count": 3,
   "id": "28089321",
   "metadata": {},
   "outputs": [
    {
     "data": {
      "text/plain": [
       "0"
      ]
     },
     "execution_count": 3,
     "metadata": {},
     "output_type": "execute_result"
    }
   ],
   "source": [
    "# folder = \"outputs/starlink-6\"\n",
    "# orb_files = get_ext_files(folder, \"orb\")\n",
    "# orb_filenames = []\n",
    "# for orb_file in orb_files:\n",
    "#     orb_filenames.append(orb_file.split(\"/\")[-1])\n",
    "# print(orb_filenames)\n",
    "bash = starlink_bash = \"#!/bin/bash\" + \"\\n\"\n",
    "\n",
    "for filename in orb_filenames:\n",
    "    bash += f\"open -j -W {filename}\\n\"\n",
    "save_to_outputs_file(\n",
    "        bash,\n",
    "        folder_name + \"/run\",\n",
    "        \"sh\")"
   ]
  },
  {
   "cell_type": "code",
   "execution_count": 7,
   "id": "acfd86e4",
   "metadata": {},
   "outputs": [
    {
     "name": "stdout",
     "output_type": "stream",
     "text": [
      "open -W ./outputs/sim-2023-03-23-rnd/starlink_50_sats_2022-08_0.orb --args -nogui\n",
      "open -W ./outputs/sim-2023-03-23-rnd/starlink_50_sats_1974-08_0.orb --args -nogui\n",
      "open -W ./outputs/sim-2023-03-23-rnd/starlink_50_sats_2012-05_0.orb --args -nogui\n",
      "open -W ./outputs/sim-2023-03-23-rnd/starlink_50_sats_1955-10_0.orb --args -nogui\n",
      "open -W ./outputs/sim-2023-03-23-rnd/starlink_50_sats_1900-09_0.orb --args -nogui\n",
      "open -W ./outputs/sim-2023-03-23-rnd/starlink_50_sats_1863-11_0.orb --args -nogui\n",
      "open -W ./outputs/sim-2023-03-23-rnd/starlink_50_sats_1809-05_0.orb --args -nogui\n",
      "open -W ./outputs/sim-2023-03-23-rnd/starlink_50_sats_1969-07_0.orb --args -nogui\n",
      "open -W ./outputs/sim-2023-03-23-rnd/starlink_50_sats_1930-10_0.orb --args -nogui\n",
      "open -W ./outputs/sim-2023-03-23-rnd/starlink_50_sats_1918-06_0.orb --args -nogui\n",
      "open -W ./outputs/sim-2023-03-23-rnd/starlink_50_sats_1879-09_0.orb --args -nogui\n",
      "open -W ./outputs/sim-2023-03-23-rnd/starlink_50_sats_1837-10_0.orb --args -nogui\n"
     ]
    }
   ],
   "source": [
    "import subprocess\n",
    "\n",
    "command = \"wine\"\n",
    "soap_path = \"/home/zeno/.wine/drive_c/SOAP/bin64/soap.exe\"\n",
    "\n",
    "command = \"open\"\n",
    "soap_path = \"\"\n",
    "\n",
    "for filename in orb_filenames:\n",
    "    # args = [\"open\", \"-n\", \"-W\", f\"{folder}/{filename}\"]\n",
    "    args = [\"open\", \"-n\", \"-j\", \"-W\", f\"{folder}/{filename}\"]\n",
    "    print(\" \".join(args))\n",
    "    # orb_path = \"\" + folder + \"/\" + filename + \"\"\n",
    "    # process = subprocess.Popen(args)\n",
    "    # process = subprocess.Popen([command, orb_path], stdout=subprocess.DEVNULL, stderr=subprocess.STDOUT)\n",
    "    process = subprocess.Popen(args)\n",
    "    process.wait()"
   ]
  },
  {
   "cell_type": "markdown",
   "id": "30c432e2",
   "metadata": {},
   "source": [
    "## Generate Barcodes"
   ]
  },
  {
   "cell_type": "code",
   "execution_count": null,
   "id": "f69c1485",
   "metadata": {},
   "outputs": [],
   "source": [
    "from zz_persistence import *\n",
    "\n",
    "diagrams = {}\n",
    "diagrams_clique = {}\n",
    "\n",
    "filepaths = get_csv_files(folder)\n",
    "for filepath in filepaths:\n",
    "    if not filepath.endswith(\"Contact Analysis.csv\"):\n",
    "        continue\n",
    "    contact_plan = ca.contact_analysis_parser(filepath)\n",
    "    graph = ca.construct_graph(contact_plan)\n",
    "    \n",
    "    weighted_simplex = ca.construct_weighted_simplex(graph)\n",
    "    clique_complex = ca.construct_clique_complex(graph)\n",
    "    \n",
    "    zz, dgms, cells = calculate_zz_persistence(weighted_simplex)\n",
    "    zz_clique, dgms_clique, cells_clique = calculate_zz_persistence(clique_complex)\n",
    "    \n",
    "    diagrams[filepath.split(\"/\")[-1]] = dgms\n",
    "    diagrams_clique[filepath.split(\"/\")[-1]] = dgms_clique\n",
    "    \n",
    "# print(diagrams)\n",
    "# print(diagrams_clique)"
   ]
  },
  {
   "cell_type": "code",
   "execution_count": null,
   "id": "e2fd09c7",
   "metadata": {},
   "outputs": [],
   "source": [
    "dim = 1"
   ]
  },
  {
   "cell_type": "markdown",
   "id": "8b2994ba",
   "metadata": {},
   "source": [
    "## Compare Earth / Moon Simulations"
   ]
  },
  {
   "cell_type": "code",
   "execution_count": null,
   "id": "55c6b294",
   "metadata": {},
   "outputs": [],
   "source": [
    "# Compare Earth / Moon\n",
    "for i in range(n):\n",
    "    for j in range(i + 1, n):\n",
    "        print(\"{} : {}\".format(i, j))\n",
    "\n",
    "        diagram_a = diagrams[\"emm_moon_\" + str(i) + \" Contact Analysis.csv\"]\n",
    "        diagram_b = diagrams[\"emm_moon_\" + str(j) + \" Contact Analysis.csv\"]\n",
    "        \n",
    "        diagram_a_clique = diagrams_clique[\"emm_moon_\" + str(i) + \" Contact Analysis.csv\"]\n",
    "        diagram_b_clique = diagrams_clique[\"emm_moon_\" + str(j) + \" Contact Analysis.csv\"]\n",
    "\n",
    "        wdist = d.wasserstein_distance(diagram_a[dim], diagram_b[dim], q=2)\n",
    "        print(\"2-Wasserstein distance between {}-dimensional persistence diagrams: {}\".format(dim, wdist))\n",
    "\n",
    "        bdist = d.bottleneck_distance(diagram_a[dim], diagram_b[dim])\n",
    "        print(\"Bottleneck distance between {}-dimensional persistence diagrams: {}\".format(dim, bdist))\n",
    "        \n",
    "        wdist_clique = d.wasserstein_distance(diagram_a_clique[dim], diagram_b_clique[dim], q=2)\n",
    "        print(\"2-Wasserstein distance between {}-dimensional persistence diagrams (Clique): {}\".format(dim, wdist_clique))\n",
    "\n",
    "        bdist_clique = d.bottleneck_distance(diagram_a_clique[dim], diagram_b_clique[dim])\n",
    "        print(\"Bottleneck distance between {}-dimensional persistence diagrams (Clique): {}\".format(dim, bdist_clique))\n",
    "        \n",
    "        "
   ]
  },
  {
   "cell_type": "markdown",
   "id": "665ce899",
   "metadata": {},
   "source": [
    "## Compare Earth / Mars Simulations"
   ]
  },
  {
   "cell_type": "code",
   "execution_count": null,
   "id": "fe3d6bbb",
   "metadata": {},
   "outputs": [],
   "source": [
    "# Compare Earth / Mars\n",
    "for i in range(n):\n",
    "    for j in range(i + 1, n):\n",
    "        print(\"{} : {}\".format(i, j))\n",
    "\n",
    "        diagram_a = diagrams[\"emm_mars_\" + str(i) + \" Contact Analysis.csv\"]\n",
    "        diagram_b = diagrams[\"emm_mars_\" + str(j) + \" Contact Analysis.csv\"]\n",
    "\n",
    "        diagram_a_clique = diagrams_clique[\"emm_mars_\" + str(i) + \" Contact Analysis.csv\"]\n",
    "        diagram_b_clique = diagrams_clique[\"emm_mars_\" + str(j) + \" Contact Analysis.csv\"]\n",
    "\n",
    "        wdist = d.wasserstein_distance(diagram_a[dim], diagram_b[dim], q=2)\n",
    "        print(\"2-Wasserstein distance between {}-dimensional persistence diagrams: {}\".format(dim, wdist))\n",
    "\n",
    "        bdist = d.bottleneck_distance(diagram_a[dim], diagram_b[dim])\n",
    "        print(\"Bottleneck distance between {}-dimensional persistence diagrams: {}\".format(dim, bdist))\n",
    "        \n",
    "        wdist_clique = d.wasserstein_distance(diagram_a_clique[dim], diagram_b_clique[dim], q=2)\n",
    "        print(\"2-Wasserstein distance between {}-dimensional persistence diagrams (Clique): {}\".format(dim, wdist_clique))\n",
    "\n",
    "        bdist_clique = d.bottleneck_distance(diagram_a_clique[dim], diagram_b_clique[dim])\n",
    "        print(\"Bottleneck distance between {}-dimensional persistence diagrams (Clique): {}\".format(dim, bdist_clique))\n",
    "        \n",
    "        "
   ]
  },
  {
   "cell_type": "markdown",
   "id": "70efc4c5",
   "metadata": {},
   "source": [
    "## Cross Compare Moon / Mars"
   ]
  },
  {
   "cell_type": "code",
   "execution_count": null,
   "id": "658521f4",
   "metadata": {},
   "outputs": [],
   "source": [
    "# Cross Compare Moon / Mars\n",
    "for i in range(n):\n",
    "    for j in range(n):\n",
    "        print(\"{} : {}\".format(i, j))\n",
    "\n",
    "        diagram_a = diagrams[\"emm_moon_\" + str(i) + \" Contact Analysis.csv\"]\n",
    "        diagram_b = diagrams[\"emm_mars_\" + str(j) + \" Contact Analysis.csv\"]\n",
    "        \n",
    "        diagram_a_clique = diagrams_clique[\"emm_moon_\" + str(i) + \" Contact Analysis.csv\"]\n",
    "        diagram_b_clique = diagrams_clique[\"emm_mars_\" + str(j) + \" Contact Analysis.csv\"]\n",
    "\n",
    "        wdist = d.wasserstein_distance(diagram_a[dim], diagram_b[dim], q=2)\n",
    "        print(\"2-Wasserstein distance between {}-dimensional persistence diagrams: {}\".format(dim, wdist))\n",
    "\n",
    "        bdist = d.bottleneck_distance(diagram_a[dim], diagram_b[dim])\n",
    "        print(\"Bottleneck distance between {}-dimensional persistence diagrams: {}\".format(dim, bdist))\n",
    "        \n",
    "        wdist_clique = d.wasserstein_distance(diagram_a_clique[dim], diagram_b_clique[dim], q=2)\n",
    "        print(\"2-Wasserstein distance between {}-dimensional persistence diagrams (Clique): {}\".format(dim, wdist_clique))\n",
    "\n",
    "        bdist_clique = d.bottleneck_distance(diagram_a_clique[dim], diagram_b_clique[dim])\n",
    "        print(\"Bottleneck distance between {}-dimensional persistence diagrams (Clique): {}\".format(dim, bdist_clique))\n",
    "        \n",
    "        "
   ]
  },
  {
   "cell_type": "code",
   "execution_count": null,
   "id": "d187eb79",
   "metadata": {},
   "outputs": [],
   "source": []
  }
 ],
 "metadata": {
  "kernelspec": {
   "display_name": "Python 3 (ipykernel)",
   "language": "python",
   "name": "python3"
  },
  "language_info": {
   "codemirror_mode": {
    "name": "ipython",
    "version": 3
   },
   "file_extension": ".py",
   "mimetype": "text/x-python",
   "name": "python",
   "nbconvert_exporter": "python",
   "pygments_lexer": "ipython3",
   "version": "3.10.9"
  }
 },
 "nbformat": 4,
 "nbformat_minor": 5
}
