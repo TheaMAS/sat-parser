{
 "cells": [
  {
   "cell_type": "markdown",
   "id": "f0a29905",
   "metadata": {},
   "source": [
    "# KNN on Barcode Distances"
   ]
  },
  {
   "cell_type": "markdown",
   "id": "cb07b36f",
   "metadata": {},
   "source": [
    "Following https://towardsdatascience.com/create-your-own-k-nearest-neighbors-algorithm-in-python-eb7093fc6339\n",
    "\n",
    "For the KNN the X-values consists of indices (ids) of simulations and the Y-values are labels (Moon, Mars).\n",
    "\n",
    " - `X` consists of names of simulations. \n",
    " - `distance_matrix_function` is a function wrapping up the distance matrix data, where rows and columns are \n",
    "    labeled by simulation name."
   ]
  },
  {
   "cell_type": "code",
   "execution_count": 1,
   "id": "37cb70cf",
   "metadata": {},
   "outputs": [],
   "source": [
    "from os_utilities import *\n",
    "from zz_persistence import *\n",
    "\n",
    "from sklearn.model_selection import train_test_split\n",
    "import numpy as np"
   ]
  },
  {
   "cell_type": "code",
   "execution_count": null,
   "id": "92985247",
   "metadata": {},
   "outputs": [],
   "source": [
    "folder_name = \"sim-2023-01-25-2018-rnd\"\n",
    "folder = \"./outputs/\" + folder_name\n",
    "\n",
    "MOON = 0\n",
    "MARS = 1\n",
    "\n",
    "# generate x, y\n",
    "x = []\n",
    "y = []\n",
    "\n",
    "# get all contact analysis data from simulation folder.\n",
    "diagrams = {}\n",
    "# diagrams_clique = {}\n",
    "\n",
    "counter = 0\n",
    "filepaths = get_csv_files(folder)\n",
    "print(filepaths)\n",
    "for filepath in filepaths:\n",
    "    if not filepath.endswith(\"Contact Analysis.csv\"):\n",
    "        continue\n",
    "    else:\n",
    "        counter += 1\n",
    "        print(counter)\n",
    "        \n",
    "    contact_plan = ca.contact_analysis_parser(filepath)\n",
    "    graph = ca.construct_graph(contact_plan)    \n",
    "    weighted_simplex = ca.construct_weighted_simplex(graph)\n",
    "    # clique_complex = ca.construct_clique_complex(graph)\n",
    "\n",
    "    zz, dgms, cells = calculate_zz_persistence(weighted_simplex)\n",
    "    # zz_clique, dgms_clique, cells_clique = calculate_zz_persistence(clique_complex)\n",
    "    \n",
    "    filename = filepath.split(\"/\")[-1]\n",
    "    \n",
    "    diagrams[filename] = {\n",
    "        \"dgms\" : dgms,\n",
    "        \"id\" : len(x)\n",
    "    }\n",
    "    # diagrams_clique[filename] = dgms_clique\n",
    "    \n",
    "    x.append(filename)\n",
    "    label = -1\n",
    "    if \"moon\" in filename:\n",
    "        label = MOON\n",
    "    elif \"mars\" in filename:\n",
    "        label = MARS\n",
    "\n",
    "    y.append(label)\n",
    "\n",
    "# print(diagrams)"
   ]
  },
  {
   "cell_type": "markdown",
   "id": "d36aa815",
   "metadata": {},
   "source": [
    "## Construct Distance Matrix Function"
   ]
  },
  {
   "cell_type": "code",
   "execution_count": null,
   "id": "a66acb2d",
   "metadata": {},
   "outputs": [],
   "source": [
    "def distance_matrix(diagrams, x, y, dim = 0):\n",
    "    m = len(diagrams)\n",
    "    matrix = np.zeros((m, m))\n",
    "    \n",
    "    for i in range(m):\n",
    "        diagram_i = diagrams[x[i]][\"dgms\"]\n",
    "        for j in range(i + 1, m):\n",
    "            diagram_j = diagrams[x[j]][\"dgms\"]\n",
    "            # distance_ij = d.bottleneck_distance(diagram_i[dim], diagram_j[dim])\n",
    "            distance_ij = d.wasserstein_distance(diagram_i[dim], diagram_j[dim], q = 2)\n",
    "            matrix[i, j] = distance_ij\n",
    "            matrix[j, i] = distance_ij\n",
    "            # print(\"{}, {}\".format(i, j))\n",
    "    # print(matrix)\n",
    "    return lambda a, b : matrix[diagrams[a][\"id\"]][diagrams[b][\"id\"]]\n",
    "    \n",
    "dim = 1\n",
    "distance_matrix_function = distance_matrix(diagrams, x, y, dim = dim)\n",
    "\n",
    "# print(distance_matrix_function(\"emm_mars_3 Contact Analysis.csv\", \"emm_mars_4 Contact Analysis.csv\"))"
   ]
  },
  {
   "cell_type": "markdown",
   "id": "07638f22",
   "metadata": {},
   "source": [
    "## Create Distance Matrix"
   ]
  },
  {
   "cell_type": "code",
   "execution_count": null,
   "id": "f6149bb0",
   "metadata": {},
   "outputs": [],
   "source": [
    "m = len(diagrams)\n",
    "distance_matrix = []\n",
    "for i in range(m):\n",
    "    row = []\n",
    "    for j in range(m):\n",
    "        row.append(distance_matrix_function(x[i], x[j]))\n",
    "    distance_matrix.append(row)\n",
    "    \n",
    "distance_matrix = np.array(distance_matrix)\n",
    "# print(distance_matrix)"
   ]
  },
  {
   "cell_type": "markdown",
   "id": "5f585831",
   "metadata": {},
   "source": [
    "## Prepare train / test data"
   ]
  },
  {
   "cell_type": "code",
   "execution_count": null,
   "id": "76ba64cc",
   "metadata": {},
   "outputs": [],
   "source": [
    "x_train, x_test, y_train, y_test = train_test_split(x, y, test_size=0.2)"
   ]
  },
  {
   "cell_type": "markdown",
   "id": "ea75893c",
   "metadata": {},
   "source": [
    "## Custom KNN Code"
   ]
  },
  {
   "cell_type": "code",
   "execution_count": null,
   "id": "2834ef23",
   "metadata": {},
   "outputs": [],
   "source": [
    "def most_common(lst):\n",
    "    '''Returns the most common element in a list'''\n",
    "    return max(set(lst), key=lst.count)\n",
    "\n",
    "class KNeighborsClassifier():\n",
    "    \n",
    "    def __init__(self, dist_matrix_function, k=5):\n",
    "        self.k = k\n",
    "        self.dist_metric = dist_matrix_function   \n",
    "        \n",
    "    def fit(self, x_train, y_train):\n",
    "        self.x_train = x_train\n",
    "        self.y_train = y_train\n",
    "        \n",
    "    def predict(self, x_test):\n",
    "        neighbors = []\n",
    "        for x in x_test:\n",
    "            distances = [self.dist_metric(x, i) for i in self.x_train]\n",
    "            y_sorted = [y for _, y in sorted(zip(distances, self.y_train))]\n",
    "            neighbors.append(y_sorted[:self.k])        \n",
    "        return list(map(most_common, neighbors))\n",
    "    \n",
    "    def evaluate(self, x_test, y_test):\n",
    "        y_pred = self.predict(x_test)\n",
    "        sum_equals = 0\n",
    "        for i in range(len(x_test)):\n",
    "            if y_pred[i] == y_test[i]:\n",
    "                sum_equals += 1\n",
    "        accuracy = sum_equals / len(y_test)\n",
    "        return accuracy"
   ]
  },
  {
   "cell_type": "markdown",
   "id": "0114aefd",
   "metadata": {},
   "source": [
    "## Run KNN\n"
   ]
  },
  {
   "cell_type": "code",
   "execution_count": null,
   "id": "e4bb2371",
   "metadata": {},
   "outputs": [],
   "source": [
    "accuracies = []\n",
    "ks = range(1, 40)\n",
    "for k in ks:\n",
    "    knn = KNeighborsClassifier(distance_matrix_function, k=k)\n",
    "    knn.fit(x_train, y_train)\n",
    "    accuracy = knn.evaluate(x_test, y_test)\n",
    "    accuracies.append(accuracy)\n",
    "    \n",
    "fig, ax = plt.subplots()\n",
    "ax.plot(ks, accuracies)\n",
    "ax.set(xlabel=\"k\",\n",
    "       ylabel=\"Accuracy\",\n",
    "       title=\"Performance of knn\")\n",
    "plt.show()\n",
    "\n"
   ]
  },
  {
   "cell_type": "code",
   "execution_count": null,
   "id": "f5601374",
   "metadata": {
    "scrolled": true
   },
   "outputs": [],
   "source": [
    "m = 200\n",
    "# k = 6\n",
    "for k in range(1, 10):\n",
    "    accuracies = []\n",
    "    for i in range(m):\n",
    "        x_train, x_test, y_train, y_test = train_test_split(x, y, test_size=0.2)\n",
    "        knn = KNeighborsClassifier(distance_matrix_function, k=k)\n",
    "        knn.fit(x_train, y_train)\n",
    "        accuracy = knn.evaluate(x_test, y_test)\n",
    "        accuracies.append(accuracy)\n",
    "\n",
    "    average = sum(accuracies) / len(accuracies)\n",
    "    print(\"Average out of {} train/test splits is {} for k = {} with dim = {}\".format(m, average, k, dim))"
   ]
  },
  {
   "cell_type": "code",
   "execution_count": null,
   "id": "ef1cb488",
   "metadata": {},
   "outputs": [],
   "source": [
    "from ripser import ripser\n",
    "from persim import plot_diagrams\n",
    "\n",
    "results = ripser(distance_matrix, distance_matrix=True)\n",
    "fig, ax = plt.subplots(1, figsize=(8, 6))\n",
    "plot_diagrams(results['dgms'], show=False)\n",
    "plt.show()"
   ]
  },
  {
   "cell_type": "code",
   "execution_count": null,
   "id": "bdf3818d",
   "metadata": {},
   "outputs": [],
   "source": []
  }
 ],
 "metadata": {
  "kernelspec": {
   "display_name": "Python 3 (ipykernel)",
   "language": "python",
   "name": "python3"
  },
  "language_info": {
   "codemirror_mode": {
    "name": "ipython",
    "version": 3
   },
   "file_extension": ".py",
   "mimetype": "text/x-python",
   "name": "python",
   "nbconvert_exporter": "python",
   "pygments_lexer": "ipython3",
   "version": "3.10.9"
  }
 },
 "nbformat": 4,
 "nbformat_minor": 5
}
