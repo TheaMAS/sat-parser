{
 "cells": [
  {
   "cell_type": "code",
   "execution_count": 1,
   "id": "fcb75979",
   "metadata": {},
   "outputs": [],
   "source": [
    "from matrix import IntervalMatrix\n",
    "import Interval_Matrix_Algebra_Calculator_v0 as imac\n",
    "import portion as P\n",
    "import interval_distance_functions as idf\n",
    "import file_parser as fp\n",
    "import zz_persistence as z\n",
    "import dionysus as d\n",
    "import matplotlib.pyplot as plt\n",
    "\n",
    "import workbench_average_contact as wac"
   ]
  },
  {
   "cell_type": "code",
   "execution_count": 3,
   "id": "315e0058",
   "metadata": {},
   "outputs": [
    {
     "name": "stdout",
     "output_type": "stream",
     "text": [
      "Test 4\n"
     ]
    },
    {
     "ename": "TypeError",
     "evalue": "zigzag_homology_persistence(): incompatible function arguments. The following argument types are supported:\n    1. (filtration: dionysus._dionysus.Filtration, times: List[List[float]], prime: int = 2, callback: Callable[[int, float, bool, dionysus::ZigzagPersistence<dionysus::ZpField<long>, int, std::__1::less<int> >, PyTimeIndexMap], None] = <built-in method  of PyCapsule object at 0x11b136420>, progress: bool = False) -> Tuple[dionysus::ZigzagPersistence<dionysus::ZpField<long>, int, std::__1::less<int> >, List[dionysus::Diagram<float, unsigned int>], PyTimeIndexMap]\n\nInvoked with: Filtration with 10 simplices, [[0], [0], [0], [0], [0, 10], [+inf, -inf], [0, 10], [0, 10], [+inf, -inf], [0, 10]]\n\nDid you forget to `#include <pybind11/stl.h>`? Or <pybind11/complex.h>,\n<pybind11/functional.h>, <pybind11/chrono.h>, etc. Some automatic\nconversions are optional and require extra headers to be included\nwhen compiling your pybind11 module.",
     "output_type": "error",
     "traceback": [
      "\u001b[0;31m---------------------------------------------------------------------------\u001b[0m",
      "\u001b[0;31mTypeError\u001b[0m                                 Traceback (most recent call last)",
      "Input \u001b[0;32mIn [3]\u001b[0m, in \u001b[0;36m<cell line: 11>\u001b[0;34m()\u001b[0m\n\u001b[1;32m      9\u001b[0m filt \u001b[38;5;241m=\u001b[39m wac\u001b[38;5;241m.\u001b[39maverage_contact_filtration(M, \u001b[38;5;241m.3\u001b[39m)\n\u001b[1;32m     10\u001b[0m simp \u001b[38;5;241m=\u001b[39m wac\u001b[38;5;241m.\u001b[39mconstruct_weighted_simplex_from_matrix(filt)\n\u001b[0;32m---> 11\u001b[0m zz, dgms, cells \u001b[38;5;241m=\u001b[39m \u001b[43mz\u001b[49m\u001b[38;5;241;43m.\u001b[39;49m\u001b[43mcalculate_zz_persistence\u001b[49m\u001b[43m(\u001b[49m\u001b[43msimp\u001b[49m\u001b[43m)\u001b[49m\n\u001b[1;32m     12\u001b[0m \u001b[38;5;28mprint\u001b[39m(M)\n\u001b[1;32m     13\u001b[0m \u001b[38;5;28mprint\u001b[39m(zz)\n",
      "File \u001b[0;32m~/source/sat-parser/zz_persistence.py:25\u001b[0m, in \u001b[0;36mcalculate_zz_persistence\u001b[0;34m(weighted_simplex)\u001b[0m\n\u001b[1;32m     21\u001b[0m f \u001b[38;5;241m=\u001b[39m d\u001b[38;5;241m.\u001b[39mFiltration(simplex)\n\u001b[1;32m     23\u001b[0m \u001b[38;5;66;03m# print(d.is_simplicial(f, report = True))\u001b[39;00m\n\u001b[0;32m---> 25\u001b[0m zz, dgms, cells \u001b[38;5;241m=\u001b[39m \u001b[43md\u001b[49m\u001b[38;5;241;43m.\u001b[39;49m\u001b[43mzigzag_homology_persistence\u001b[49m\u001b[43m(\u001b[49m\u001b[43mf\u001b[49m\u001b[43m,\u001b[49m\u001b[43m \u001b[49m\u001b[43mtimes\u001b[49m\u001b[43m)\u001b[49m\n\u001b[1;32m     26\u001b[0m \u001b[38;5;66;03m# output = d.zigzag_homology_persistence(f, times)\u001b[39;00m\n\u001b[1;32m     27\u001b[0m \u001b[38;5;66;03m# print(output)\u001b[39;00m\n\u001b[1;32m     28\u001b[0m \n\u001b[0;32m   (...)\u001b[0m\n\u001b[1;32m     31\u001b[0m \u001b[38;5;66;03m#     for p in dgm:\u001b[39;00m\n\u001b[1;32m     32\u001b[0m \u001b[38;5;66;03m#         print(p)\u001b[39;00m\n\u001b[1;32m     34\u001b[0m \u001b[38;5;28;01mreturn\u001b[39;00m zz, dgms, cells\n",
      "\u001b[0;31mTypeError\u001b[0m: zigzag_homology_persistence(): incompatible function arguments. The following argument types are supported:\n    1. (filtration: dionysus._dionysus.Filtration, times: List[List[float]], prime: int = 2, callback: Callable[[int, float, bool, dionysus::ZigzagPersistence<dionysus::ZpField<long>, int, std::__1::less<int> >, PyTimeIndexMap], None] = <built-in method  of PyCapsule object at 0x11b136420>, progress: bool = False) -> Tuple[dionysus::ZigzagPersistence<dionysus::ZpField<long>, int, std::__1::less<int> >, List[dionysus::Diagram<float, unsigned int>], PyTimeIndexMap]\n\nInvoked with: Filtration with 10 simplices, [[0], [0], [0], [0], [0, 10], [+inf, -inf], [0, 10], [0, 10], [+inf, -inf], [0, 10]]\n\nDid you forget to `#include <pybind11/stl.h>`? Or <pybind11/complex.h>,\n<pybind11/functional.h>, <pybind11/chrono.h>, etc. Some automatic\nconversions are optional and require extra headers to be included\nwhen compiling your pybind11 module."
     ]
    }
   ],
   "source": [
    "    print(\"Test 4\")\n",
    "    M = IntervalMatrix(4, 4)\n",
    "    for i in range(0,4):\n",
    "        M[i, i] = P.open(0, 25)\n",
    "    M[0, 1] = P.open(0, 10)\n",
    "    M[1, 2] = P.open(0, 10)\n",
    "    M[2, 3] = P.open(0, 10)\n",
    "    M[0, 3] =  P.open(0, 10)\n",
    "    filt = wac.average_contact_filtration(M, .3)\n",
    "    simp = wac.construct_weighted_simplex_from_matrix(filt)\n",
    "    zz, dgms, cells = z.calculate_zz_persistence(simp)\n",
    "    print(M)\n",
    "    print(zz)\n",
    "    for i, k in enumerate(dgms):\n",
    "        print(\"{}: {}\".format(i, k))\n",
    "    for i, k in enumerate(dgms):\n",
    "        d.plot.plot_diagram(k, show=True)\n",
    "    print(\"\")"
   ]
  },
  {
   "cell_type": "code",
   "execution_count": null,
   "id": "308ebe87",
   "metadata": {},
   "outputs": [],
   "source": []
  }
 ],
 "metadata": {
  "kernelspec": {
   "display_name": "Python 3 (ipykernel)",
   "language": "python",
   "name": "python3"
  },
  "language_info": {
   "codemirror_mode": {
    "name": "ipython",
    "version": 3
   },
   "file_extension": ".py",
   "mimetype": "text/x-python",
   "name": "python",
   "nbconvert_exporter": "python",
   "pygments_lexer": "ipython3",
   "version": "3.9.16"
  }
 },
 "nbformat": 4,
 "nbformat_minor": 5
}
