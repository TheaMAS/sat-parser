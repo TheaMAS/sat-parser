{
 "cells": [
  {
   "cell_type": "code",
   "execution_count": null,
   "id": "aae46a6d",
   "metadata": {},
   "outputs": [],
   "source": []
  },
  {
   "cell_type": "code",
   "execution_count": 1,
   "id": "57d2d0fa",
   "metadata": {},
   "outputs": [
    {
     "name": "stdout",
     "output_type": "stream",
     "text": [
      "2022-04-30 01:43:00\n",
      "2022-05-01 01:43:00\n"
     ]
    }
   ],
   "source": [
    "from os_utilities import *\n",
    "from orb_builder import *\n"
   ]
  },
  {
   "cell_type": "code",
   "execution_count": 4,
   "id": "0352ce59",
   "metadata": {},
   "outputs": [
    {
     "data": {
      "text/plain": [
       "0"
      ]
     },
     "execution_count": 4,
     "metadata": {},
     "output_type": "execute_result"
    }
   ],
   "source": [
    "folder_name = \"sim-2022-09-22\"\n",
    "prefix = \"moongnd\"\n",
    "i = 1\n",
    "k = 200\n",
    "\n",
    "make_folder(\"./outputs/\" + folder_name)\n",
    "\n",
    "starlink = build_satellites_csv(\"starlink\")\n",
    "moon_sats = get_moon_platforms()\n",
    "ground = [\n",
    "    create_ground_object_dictionary(\"Ground:Albany\", 42.685012663456163, -73.82479012295363, 0),\n",
    "    create_ground_object_dictionary(\"Ground:Sydney\", -33.868888888888889, 151.20939697339508, 0)\n",
    "]\n",
    "\n",
    "norad = build_satellites_from_tle(\"./sources/tdrss.tle\")\n",
    "tle = \"\"\"\n",
    "TDRS 3\n",
    "1 19548U 88091B   22144.45796491 -.00000313  00000+0  00000+0 0  9997\n",
    "2 19548  13.7334 351.5139 0036255 336.8078  29.6172  1.00266005110484\n",
    "\"\"\"\n",
    "object = build_satellite_tle(tle)\n",
    "\n",
    "name = prefix + \"_\" + str(i)\n",
    "\n",
    "subset = sample_sats(starlink, k)\n",
    "satellites = subset + moon_sats + ground + [object]\n",
    "save_to_outputs_file(\n",
    "    generate_orb(satellites, name),\n",
    "    folder_name + \"/\" + name, \"orb\")\n"
   ]
  },
  {
   "cell_type": "code",
   "execution_count": null,
   "id": "48d644f8",
   "metadata": {},
   "outputs": [],
   "source": []
  }
 ],
 "metadata": {
  "kernelspec": {
   "display_name": "Python 3 (ipykernel)",
   "language": "python",
   "name": "python3"
  },
  "language_info": {
   "codemirror_mode": {
    "name": "ipython",
    "version": 3
   },
   "file_extension": ".py",
   "mimetype": "text/x-python",
   "name": "python",
   "nbconvert_exporter": "python",
   "pygments_lexer": "ipython3",
   "version": "3.10.6"
  }
 },
 "nbformat": 4,
 "nbformat_minor": 5
}
